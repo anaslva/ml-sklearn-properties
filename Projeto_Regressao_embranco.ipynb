{
  "cells": [
    {
      "cell_type": "markdown",
      "metadata": {
        "id": "5joGVhddjotb"
      },
      "source": [
        "# 1 - Tratamento de dados"
      ]
    },
    {
      "cell_type": "markdown",
      "metadata": {
        "id": "krWT41fAjoth"
      },
      "source": [
        "## Carregando os dados\n",
        "\n",
        "[JSON Viewer](http://jsonviewer.stack.hu)\n",
        "\n",
        "[Pandas: read_json](https://pandas.pydata.org/docs/reference/api/pandas.read_json.html?highlight=read_json#pandas.read_json)\n"
      ]
    },
    {
      "cell_type": "code",
      "execution_count": 2,
      "metadata": {
        "id": "RmPCUP27joti"
      },
      "outputs": [],
      "source": [
        "import pandas as pd\n",
        "import numpy as np"
      ]
    },
    {
      "cell_type": "code",
      "execution_count": null,
      "metadata": {
        "id": "QggfzZk1jotk"
      },
      "outputs": [],
      "source": [
        "data = pd.read_json(path_or_buf=\"imoveis.json\", orient=\"columns\") #orient como queremos que o json seja orientado (pode ser coluna ou outros)\n"
      ]
    },
    {
      "cell_type": "markdown",
      "metadata": {
        "id": "ummedWUBjotl"
      },
      "source": [
        "### Explorar as informações"
      ]
    },
    {
      "cell_type": "code",
      "execution_count": 7,
      "metadata": {
        "id": "EO8_JLNzjotm"
      },
      "outputs": [
        {
          "data": {
            "text/plain": [
              "{'customerID': '775564-BOJSMVON', 'source': 'Website'}"
            ]
          },
          "execution_count": 7,
          "metadata": {},
          "output_type": "execute_result"
        }
      ],
      "source": [
        "data.ident[0]"
      ]
    },
    {
      "cell_type": "code",
      "execution_count": 9,
      "metadata": {
        "id": "P7kRk0zljotm"
      },
      "outputs": [
        {
          "data": {
            "text/plain": [
              "{'types': {'unit': 'Outros', 'usage': 'Residencial'},\n",
              " 'address': {'city': 'Rio de Janeiro',\n",
              "  'location': {'lon': -43.413557, 'lat': -22.909429},\n",
              "  'zone': 'Zona Oeste',\n",
              "  'neighborhood': 'Taquara'},\n",
              " 'prices': {'price': '45000', 'tax': {'iptu': '0', 'condo': '150'}},\n",
              " 'features': {'bedrooms': 0,\n",
              "  'bathrooms': 0,\n",
              "  'suites': 0,\n",
              "  'parkingSpaces': 1,\n",
              "  'usableAreas': '62',\n",
              "  'totalAreas': '62',\n",
              "  'floors': 0,\n",
              "  'unitsOnTheFloor': 0,\n",
              "  'unitFloor': 0}}"
            ]
          },
          "execution_count": 9,
          "metadata": {},
          "output_type": "execute_result"
        }
      ],
      "source": [
        "data.listing[0]"
      ]
    },
    {
      "cell_type": "markdown",
      "metadata": {
        "id": "i0ajVKZfjotn"
      },
      "source": [
        "## Tratamento de dados inicial"
      ]
    },
    {
      "cell_type": "markdown",
      "metadata": {
        "id": "SNlALwsLjoto"
      },
      "source": [
        "### Normalização"
      ]
    },
    {
      "cell_type": "markdown",
      "metadata": {},
      "source": [
        "Para usar esses dados no treinamento do modelo, preciso que estejam em formato e dataframe, por isso precisa normalizar. Mesmo que já esteja em coluna, ainda são duas colunas que tem json dentro delas"
      ]
    },
    {
      "cell_type": "code",
      "execution_count": 13,
      "metadata": {
        "id": "_FhPQDBbjotp"
      },
      "outputs": [
        {
          "data": {
            "text/html": [
              "<div>\n",
              "<style scoped>\n",
              "    .dataframe tbody tr th:only-of-type {\n",
              "        vertical-align: middle;\n",
              "    }\n",
              "\n",
              "    .dataframe tbody tr th {\n",
              "        vertical-align: top;\n",
              "    }\n",
              "\n",
              "    .dataframe thead th {\n",
              "        text-align: right;\n",
              "    }\n",
              "</style>\n",
              "<table border=\"1\" class=\"dataframe\">\n",
              "  <thead>\n",
              "    <tr style=\"text-align: right;\">\n",
              "      <th></th>\n",
              "      <th>customerID</th>\n",
              "      <th>source</th>\n",
              "    </tr>\n",
              "  </thead>\n",
              "  <tbody>\n",
              "    <tr>\n",
              "      <th>0</th>\n",
              "      <td>775564-BOJSMVON</td>\n",
              "      <td>Website</td>\n",
              "    </tr>\n",
              "    <tr>\n",
              "      <th>1</th>\n",
              "      <td>660895-AUENKNYY</td>\n",
              "      <td>Website</td>\n",
              "    </tr>\n",
              "    <tr>\n",
              "      <th>2</th>\n",
              "      <td>751522-JESYFEQL</td>\n",
              "      <td>Website</td>\n",
              "    </tr>\n",
              "    <tr>\n",
              "      <th>3</th>\n",
              "      <td>714052-GAAEWYKS</td>\n",
              "      <td>Website</td>\n",
              "    </tr>\n",
              "    <tr>\n",
              "      <th>4</th>\n",
              "      <td>568886-ZIBFOMCC</td>\n",
              "      <td>Website</td>\n",
              "    </tr>\n",
              "  </tbody>\n",
              "</table>\n",
              "</div>"
            ],
            "text/plain": [
              "        customerID   source\n",
              "0  775564-BOJSMVON  Website\n",
              "1  660895-AUENKNYY  Website\n",
              "2  751522-JESYFEQL  Website\n",
              "3  714052-GAAEWYKS  Website\n",
              "4  568886-ZIBFOMCC  Website"
            ]
          },
          "execution_count": 13,
          "metadata": {},
          "output_type": "execute_result"
        }
      ],
      "source": [
        "data_list_ident = pd.json_normalize(data.ident)\n",
        "data_list_ident.head()"
      ]
    },
    {
      "cell_type": "code",
      "execution_count": 18,
      "metadata": {
        "id": "p7UnhrX9jotp"
      },
      "outputs": [
        {
          "data": {
            "text/html": [
              "<div>\n",
              "<style scoped>\n",
              "    .dataframe tbody tr th:only-of-type {\n",
              "        vertical-align: middle;\n",
              "    }\n",
              "\n",
              "    .dataframe tbody tr th {\n",
              "        vertical-align: top;\n",
              "    }\n",
              "\n",
              "    .dataframe thead th {\n",
              "        text-align: right;\n",
              "    }\n",
              "</style>\n",
              "<table border=\"1\" class=\"dataframe\">\n",
              "  <thead>\n",
              "    <tr style=\"text-align: right;\">\n",
              "      <th></th>\n",
              "      <th>types_unit</th>\n",
              "      <th>types_usage</th>\n",
              "      <th>address_city</th>\n",
              "      <th>address_location_lon</th>\n",
              "      <th>address_location_lat</th>\n",
              "      <th>address_zone</th>\n",
              "      <th>address_neighborhood</th>\n",
              "      <th>prices_price</th>\n",
              "      <th>prices_tax_iptu</th>\n",
              "      <th>prices_tax_condo</th>\n",
              "      <th>features_bedrooms</th>\n",
              "      <th>features_bathrooms</th>\n",
              "      <th>features_suites</th>\n",
              "      <th>features_parkingSpaces</th>\n",
              "      <th>features_usableAreas</th>\n",
              "      <th>features_totalAreas</th>\n",
              "      <th>features_floors</th>\n",
              "      <th>features_unitsOnTheFloor</th>\n",
              "      <th>features_unitFloor</th>\n",
              "    </tr>\n",
              "  </thead>\n",
              "  <tbody>\n",
              "    <tr>\n",
              "      <th>0</th>\n",
              "      <td>Outros</td>\n",
              "      <td>Residencial</td>\n",
              "      <td>Rio de Janeiro</td>\n",
              "      <td>-43.413557</td>\n",
              "      <td>-22.909429</td>\n",
              "      <td>Zona Oeste</td>\n",
              "      <td>Taquara</td>\n",
              "      <td>45000</td>\n",
              "      <td>0</td>\n",
              "      <td>150</td>\n",
              "      <td>0</td>\n",
              "      <td>0</td>\n",
              "      <td>0</td>\n",
              "      <td>1</td>\n",
              "      <td>62</td>\n",
              "      <td>62</td>\n",
              "      <td>0</td>\n",
              "      <td>0</td>\n",
              "      <td>0</td>\n",
              "    </tr>\n",
              "    <tr>\n",
              "      <th>1</th>\n",
              "      <td>Apartamento</td>\n",
              "      <td>Residencial</td>\n",
              "      <td>Rio de Janeiro</td>\n",
              "      <td>-43.509141</td>\n",
              "      <td>-22.869698</td>\n",
              "      <td>Zona Oeste</td>\n",
              "      <td>Santíssimo</td>\n",
              "      <td>45000</td>\n",
              "      <td>0</td>\n",
              "      <td>120</td>\n",
              "      <td>2</td>\n",
              "      <td>1</td>\n",
              "      <td>0</td>\n",
              "      <td>1</td>\n",
              "      <td>44</td>\n",
              "      <td>0</td>\n",
              "      <td>0</td>\n",
              "      <td>0</td>\n",
              "      <td>0</td>\n",
              "    </tr>\n",
              "    <tr>\n",
              "      <th>2</th>\n",
              "      <td>Outros</td>\n",
              "      <td>Residencial</td>\n",
              "      <td>Rio de Janeiro</td>\n",
              "      <td>-43.646786</td>\n",
              "      <td>-22.986927</td>\n",
              "      <td>Zona Oeste</td>\n",
              "      <td>Pedra de Guaratiba</td>\n",
              "      <td>50000</td>\n",
              "      <td>0</td>\n",
              "      <td>100</td>\n",
              "      <td>0</td>\n",
              "      <td>0</td>\n",
              "      <td>0</td>\n",
              "      <td>0</td>\n",
              "      <td>132</td>\n",
              "      <td>132</td>\n",
              "      <td>0</td>\n",
              "      <td>0</td>\n",
              "      <td>0</td>\n",
              "    </tr>\n",
              "    <tr>\n",
              "      <th>3</th>\n",
              "      <td>Outros</td>\n",
              "      <td>Comercial</td>\n",
              "      <td>Rio de Janeiro</td>\n",
              "      <td>-43.330818</td>\n",
              "      <td>-22.881977</td>\n",
              "      <td>Zona Norte</td>\n",
              "      <td>Cascadura</td>\n",
              "      <td>45000</td>\n",
              "      <td>346</td>\n",
              "      <td>468</td>\n",
              "      <td>0</td>\n",
              "      <td>1</td>\n",
              "      <td>0</td>\n",
              "      <td>0</td>\n",
              "      <td>32</td>\n",
              "      <td>32</td>\n",
              "      <td>0</td>\n",
              "      <td>0</td>\n",
              "      <td>3</td>\n",
              "    </tr>\n",
              "    <tr>\n",
              "      <th>4</th>\n",
              "      <td>Apartamento</td>\n",
              "      <td>Residencial</td>\n",
              "      <td>Rio de Janeiro</td>\n",
              "      <td>-43.480742</td>\n",
              "      <td>-23.027653</td>\n",
              "      <td>Zona Oeste</td>\n",
              "      <td>Recreio dos Bandeirantes</td>\n",
              "      <td>50000</td>\n",
              "      <td>120</td>\n",
              "      <td>400</td>\n",
              "      <td>3</td>\n",
              "      <td>2</td>\n",
              "      <td>1</td>\n",
              "      <td>1</td>\n",
              "      <td>60</td>\n",
              "      <td>0</td>\n",
              "      <td>3</td>\n",
              "      <td>4</td>\n",
              "      <td>2</td>\n",
              "    </tr>\n",
              "  </tbody>\n",
              "</table>\n",
              "</div>"
            ],
            "text/plain": [
              "    types_unit  types_usage    address_city  address_location_lon  \\\n",
              "0       Outros  Residencial  Rio de Janeiro            -43.413557   \n",
              "1  Apartamento  Residencial  Rio de Janeiro            -43.509141   \n",
              "2       Outros  Residencial  Rio de Janeiro            -43.646786   \n",
              "3       Outros    Comercial  Rio de Janeiro            -43.330818   \n",
              "4  Apartamento  Residencial  Rio de Janeiro            -43.480742   \n",
              "\n",
              "   address_location_lat address_zone      address_neighborhood prices_price  \\\n",
              "0            -22.909429   Zona Oeste                   Taquara        45000   \n",
              "1            -22.869698   Zona Oeste                Santíssimo        45000   \n",
              "2            -22.986927   Zona Oeste        Pedra de Guaratiba        50000   \n",
              "3            -22.881977   Zona Norte                 Cascadura        45000   \n",
              "4            -23.027653   Zona Oeste  Recreio dos Bandeirantes        50000   \n",
              "\n",
              "  prices_tax_iptu prices_tax_condo  features_bedrooms  features_bathrooms  \\\n",
              "0               0              150                  0                   0   \n",
              "1               0              120                  2                   1   \n",
              "2               0              100                  0                   0   \n",
              "3             346              468                  0                   1   \n",
              "4             120              400                  3                   2   \n",
              "\n",
              "   features_suites  features_parkingSpaces features_usableAreas  \\\n",
              "0                0                       1                   62   \n",
              "1                0                       1                   44   \n",
              "2                0                       0                  132   \n",
              "3                0                       0                   32   \n",
              "4                1                       1                   60   \n",
              "\n",
              "  features_totalAreas  features_floors  features_unitsOnTheFloor  \\\n",
              "0                  62                0                         0   \n",
              "1                   0                0                         0   \n",
              "2                 132                0                         0   \n",
              "3                  32                0                         0   \n",
              "4                   0                3                         4   \n",
              "\n",
              "   features_unitFloor  \n",
              "0                   0  \n",
              "1                   0  \n",
              "2                   0  \n",
              "3                   3  \n",
              "4                   2  "
            ]
          },
          "execution_count": 18,
          "metadata": {},
          "output_type": "execute_result"
        }
      ],
      "source": [
        "data_list_listing = pd.json_normalize(data.listing, sep='_')\n",
        "data_list_listing.head()"
      ]
    },
    {
      "cell_type": "markdown",
      "metadata": {
        "id": "DWqC5wd3jotq"
      },
      "source": [
        "### Junção dos dataframes"
      ]
    },
    {
      "cell_type": "code",
      "execution_count": null,
      "metadata": {
        "id": "VO8u42uxjotq"
      },
      "outputs": [
        {
          "data": {
            "text/html": [
              "<div>\n",
              "<style scoped>\n",
              "    .dataframe tbody tr th:only-of-type {\n",
              "        vertical-align: middle;\n",
              "    }\n",
              "\n",
              "    .dataframe tbody tr th {\n",
              "        vertical-align: top;\n",
              "    }\n",
              "\n",
              "    .dataframe thead th {\n",
              "        text-align: right;\n",
              "    }\n",
              "</style>\n",
              "<table border=\"1\" class=\"dataframe\">\n",
              "  <thead>\n",
              "    <tr style=\"text-align: right;\">\n",
              "      <th></th>\n",
              "      <th>customerID</th>\n",
              "      <th>source</th>\n",
              "      <th>types_unit</th>\n",
              "      <th>types_usage</th>\n",
              "      <th>address_city</th>\n",
              "      <th>address_location_lon</th>\n",
              "      <th>address_location_lat</th>\n",
              "      <th>address_zone</th>\n",
              "      <th>address_neighborhood</th>\n",
              "      <th>prices_price</th>\n",
              "      <th>...</th>\n",
              "      <th>prices_tax_condo</th>\n",
              "      <th>features_bedrooms</th>\n",
              "      <th>features_bathrooms</th>\n",
              "      <th>features_suites</th>\n",
              "      <th>features_parkingSpaces</th>\n",
              "      <th>features_usableAreas</th>\n",
              "      <th>features_totalAreas</th>\n",
              "      <th>features_floors</th>\n",
              "      <th>features_unitsOnTheFloor</th>\n",
              "      <th>features_unitFloor</th>\n",
              "    </tr>\n",
              "  </thead>\n",
              "  <tbody>\n",
              "    <tr>\n",
              "      <th>0</th>\n",
              "      <td>775564-BOJSMVON</td>\n",
              "      <td>Website</td>\n",
              "      <td>Outros</td>\n",
              "      <td>Residencial</td>\n",
              "      <td>Rio de Janeiro</td>\n",
              "      <td>-43.413557</td>\n",
              "      <td>-22.909429</td>\n",
              "      <td>Zona Oeste</td>\n",
              "      <td>Taquara</td>\n",
              "      <td>45000</td>\n",
              "      <td>...</td>\n",
              "      <td>150</td>\n",
              "      <td>0</td>\n",
              "      <td>0</td>\n",
              "      <td>0</td>\n",
              "      <td>1</td>\n",
              "      <td>62</td>\n",
              "      <td>62</td>\n",
              "      <td>0</td>\n",
              "      <td>0</td>\n",
              "      <td>0</td>\n",
              "    </tr>\n",
              "    <tr>\n",
              "      <th>1</th>\n",
              "      <td>660895-AUENKNYY</td>\n",
              "      <td>Website</td>\n",
              "      <td>Apartamento</td>\n",
              "      <td>Residencial</td>\n",
              "      <td>Rio de Janeiro</td>\n",
              "      <td>-43.509141</td>\n",
              "      <td>-22.869698</td>\n",
              "      <td>Zona Oeste</td>\n",
              "      <td>Santíssimo</td>\n",
              "      <td>45000</td>\n",
              "      <td>...</td>\n",
              "      <td>120</td>\n",
              "      <td>2</td>\n",
              "      <td>1</td>\n",
              "      <td>0</td>\n",
              "      <td>1</td>\n",
              "      <td>44</td>\n",
              "      <td>0</td>\n",
              "      <td>0</td>\n",
              "      <td>0</td>\n",
              "      <td>0</td>\n",
              "    </tr>\n",
              "    <tr>\n",
              "      <th>2</th>\n",
              "      <td>751522-JESYFEQL</td>\n",
              "      <td>Website</td>\n",
              "      <td>Outros</td>\n",
              "      <td>Residencial</td>\n",
              "      <td>Rio de Janeiro</td>\n",
              "      <td>-43.646786</td>\n",
              "      <td>-22.986927</td>\n",
              "      <td>Zona Oeste</td>\n",
              "      <td>Pedra de Guaratiba</td>\n",
              "      <td>50000</td>\n",
              "      <td>...</td>\n",
              "      <td>100</td>\n",
              "      <td>0</td>\n",
              "      <td>0</td>\n",
              "      <td>0</td>\n",
              "      <td>0</td>\n",
              "      <td>132</td>\n",
              "      <td>132</td>\n",
              "      <td>0</td>\n",
              "      <td>0</td>\n",
              "      <td>0</td>\n",
              "    </tr>\n",
              "    <tr>\n",
              "      <th>3</th>\n",
              "      <td>714052-GAAEWYKS</td>\n",
              "      <td>Website</td>\n",
              "      <td>Outros</td>\n",
              "      <td>Comercial</td>\n",
              "      <td>Rio de Janeiro</td>\n",
              "      <td>-43.330818</td>\n",
              "      <td>-22.881977</td>\n",
              "      <td>Zona Norte</td>\n",
              "      <td>Cascadura</td>\n",
              "      <td>45000</td>\n",
              "      <td>...</td>\n",
              "      <td>468</td>\n",
              "      <td>0</td>\n",
              "      <td>1</td>\n",
              "      <td>0</td>\n",
              "      <td>0</td>\n",
              "      <td>32</td>\n",
              "      <td>32</td>\n",
              "      <td>0</td>\n",
              "      <td>0</td>\n",
              "      <td>3</td>\n",
              "    </tr>\n",
              "    <tr>\n",
              "      <th>4</th>\n",
              "      <td>568886-ZIBFOMCC</td>\n",
              "      <td>Website</td>\n",
              "      <td>Apartamento</td>\n",
              "      <td>Residencial</td>\n",
              "      <td>Rio de Janeiro</td>\n",
              "      <td>-43.480742</td>\n",
              "      <td>-23.027653</td>\n",
              "      <td>Zona Oeste</td>\n",
              "      <td>Recreio dos Bandeirantes</td>\n",
              "      <td>50000</td>\n",
              "      <td>...</td>\n",
              "      <td>400</td>\n",
              "      <td>3</td>\n",
              "      <td>2</td>\n",
              "      <td>1</td>\n",
              "      <td>1</td>\n",
              "      <td>60</td>\n",
              "      <td>0</td>\n",
              "      <td>3</td>\n",
              "      <td>4</td>\n",
              "      <td>2</td>\n",
              "    </tr>\n",
              "  </tbody>\n",
              "</table>\n",
              "<p>5 rows × 21 columns</p>\n",
              "</div>"
            ],
            "text/plain": [
              "        customerID   source   types_unit  types_usage    address_city  \\\n",
              "0  775564-BOJSMVON  Website       Outros  Residencial  Rio de Janeiro   \n",
              "1  660895-AUENKNYY  Website  Apartamento  Residencial  Rio de Janeiro   \n",
              "2  751522-JESYFEQL  Website       Outros  Residencial  Rio de Janeiro   \n",
              "3  714052-GAAEWYKS  Website       Outros    Comercial  Rio de Janeiro   \n",
              "4  568886-ZIBFOMCC  Website  Apartamento  Residencial  Rio de Janeiro   \n",
              "\n",
              "   address_location_lon  address_location_lat address_zone  \\\n",
              "0            -43.413557            -22.909429   Zona Oeste   \n",
              "1            -43.509141            -22.869698   Zona Oeste   \n",
              "2            -43.646786            -22.986927   Zona Oeste   \n",
              "3            -43.330818            -22.881977   Zona Norte   \n",
              "4            -43.480742            -23.027653   Zona Oeste   \n",
              "\n",
              "       address_neighborhood prices_price  ... prices_tax_condo  \\\n",
              "0                   Taquara        45000  ...              150   \n",
              "1                Santíssimo        45000  ...              120   \n",
              "2        Pedra de Guaratiba        50000  ...              100   \n",
              "3                 Cascadura        45000  ...              468   \n",
              "4  Recreio dos Bandeirantes        50000  ...              400   \n",
              "\n",
              "  features_bedrooms  features_bathrooms  features_suites  \\\n",
              "0                 0                   0                0   \n",
              "1                 2                   1                0   \n",
              "2                 0                   0                0   \n",
              "3                 0                   1                0   \n",
              "4                 3                   2                1   \n",
              "\n",
              "   features_parkingSpaces  features_usableAreas features_totalAreas  \\\n",
              "0                       1                    62                  62   \n",
              "1                       1                    44                   0   \n",
              "2                       0                   132                 132   \n",
              "3                       0                    32                  32   \n",
              "4                       1                    60                   0   \n",
              "\n",
              "  features_floors  features_unitsOnTheFloor  features_unitFloor  \n",
              "0               0                         0                   0  \n",
              "1               0                         0                   0  \n",
              "2               0                         0                   0  \n",
              "3               0                         0                   3  \n",
              "4               3                         4                   2  \n",
              "\n",
              "[5 rows x 21 columns]"
            ]
          },
          "execution_count": 19,
          "metadata": {},
          "output_type": "execute_result"
        }
      ],
      "source": [
        "data_properties = pd.concat([data_list_ident, data_list_listing], axis=1) #axis 1 - colunas\n",
        "data_properties.head()"
      ]
    },
    {
      "cell_type": "code",
      "execution_count": null,
      "metadata": {
        "id": "7LD3vrYikH-N"
      },
      "outputs": [
        {
          "data": {
            "text/plain": [
              "(73615, 21)"
            ]
          },
          "execution_count": 20,
          "metadata": {},
          "output_type": "execute_result"
        }
      ],
      "source": [
        "data_properties.shape #numero de linhas, numero de colunas - 73615 imoveis e 21 caracteristicas"
      ]
    },
    {
      "cell_type": "markdown",
      "metadata": {
        "id": "hht873Vzjott"
      },
      "source": [
        "## Limpeza"
      ]
    },
    {
      "cell_type": "markdown",
      "metadata": {},
      "source": [
        "Limpar dados irrelevantes e normalizar tipos de dados para os tipos de imoveis, que tem pesos diferentes\n",
        "Ex: o numero de suites para um imovel residencial é relevante para o preço, mas para um imovel comercial, não "
      ]
    },
    {
      "cell_type": "markdown",
      "metadata": {
        "id": "f2QL-757jotr"
      },
      "source": [
        "### Filtro"
      ]
    },
    {
      "cell_type": "code",
      "execution_count": 22,
      "metadata": {
        "id": "tYvDwNlXjots"
      },
      "outputs": [
        {
          "data": {
            "text/plain": [
              "(69588, 21)"
            ]
          },
          "execution_count": 22,
          "metadata": {},
          "output_type": "execute_result"
        }
      ],
      "source": [
        "filter = (data_properties['types_usage'] == 'Residencial') & (data_properties['address_city'] == 'Rio de Janeiro')\n",
        "data_properties = data_properties[filter] \n",
        "data_properties.head()\n",
        "data_properties.shape"
      ]
    },
    {
      "cell_type": "markdown",
      "metadata": {
        "id": "MiQRemC5jott"
      },
      "source": [
        "### Tipos de variáveis"
      ]
    },
    {
      "cell_type": "code",
      "execution_count": 23,
      "metadata": {
        "id": "I-BZG6ezjotu"
      },
      "outputs": [
        {
          "name": "stdout",
          "output_type": "stream",
          "text": [
            "<class 'pandas.core.frame.DataFrame'>\n",
            "Index: 69588 entries, 0 to 73614\n",
            "Data columns (total 21 columns):\n",
            " #   Column                    Non-Null Count  Dtype  \n",
            "---  ------                    --------------  -----  \n",
            " 0   customerID                69588 non-null  object \n",
            " 1   source                    69588 non-null  object \n",
            " 2   types_unit                69588 non-null  object \n",
            " 3   types_usage               69588 non-null  object \n",
            " 4   address_city              69588 non-null  object \n",
            " 5   address_location_lon      69449 non-null  float64\n",
            " 6   address_location_lat      69449 non-null  float64\n",
            " 7   address_zone              69588 non-null  object \n",
            " 8   address_neighborhood      69588 non-null  object \n",
            " 9   prices_price              69588 non-null  object \n",
            " 10  prices_tax_iptu           60863 non-null  object \n",
            " 11  prices_tax_condo          63527 non-null  object \n",
            " 12  features_bedrooms         69588 non-null  int64  \n",
            " 13  features_bathrooms        69588 non-null  int64  \n",
            " 14  features_suites           69588 non-null  int64  \n",
            " 15  features_parkingSpaces    69588 non-null  int64  \n",
            " 16  features_usableAreas      69588 non-null  object \n",
            " 17  features_totalAreas       69588 non-null  object \n",
            " 18  features_floors           69588 non-null  int64  \n",
            " 19  features_unitsOnTheFloor  69588 non-null  int64  \n",
            " 20  features_unitFloor        69588 non-null  int64  \n",
            "dtypes: float64(2), int64(7), object(12)\n",
            "memory usage: 11.7+ MB\n"
          ]
        }
      ],
      "source": [
        "data_properties.info()"
      ]
    },
    {
      "cell_type": "markdown",
      "metadata": {
        "id": "hvIqV8S1jotu"
      },
      "source": [
        "Verificando a saída do `.info`\n",
        "\n",
        "> 69588 entries, 0 to 73614\n",
        "\n",
        " percebemos que temos que resentar o index, para que as infos fiquem ordenadas corretamente.\n",
        " "
      ]
    },
    {
      "cell_type": "code",
      "execution_count": 24,
      "metadata": {
        "id": "mjrFeD24jotu"
      },
      "outputs": [],
      "source": [
        "data_properties.reset_index(drop=True, inplace=True)"
      ]
    },
    {
      "cell_type": "code",
      "execution_count": 25,
      "metadata": {
        "id": "nHtAN-MSjotv"
      },
      "outputs": [
        {
          "name": "stdout",
          "output_type": "stream",
          "text": [
            "<class 'pandas.core.frame.DataFrame'>\n",
            "RangeIndex: 69588 entries, 0 to 69587\n",
            "Data columns (total 21 columns):\n",
            " #   Column                    Non-Null Count  Dtype  \n",
            "---  ------                    --------------  -----  \n",
            " 0   customerID                69588 non-null  object \n",
            " 1   source                    69588 non-null  object \n",
            " 2   types_unit                69588 non-null  object \n",
            " 3   types_usage               69588 non-null  object \n",
            " 4   address_city              69588 non-null  object \n",
            " 5   address_location_lon      69449 non-null  float64\n",
            " 6   address_location_lat      69449 non-null  float64\n",
            " 7   address_zone              69588 non-null  object \n",
            " 8   address_neighborhood      69588 non-null  object \n",
            " 9   prices_price              69588 non-null  object \n",
            " 10  prices_tax_iptu           60863 non-null  object \n",
            " 11  prices_tax_condo          63527 non-null  object \n",
            " 12  features_bedrooms         69588 non-null  int64  \n",
            " 13  features_bathrooms        69588 non-null  int64  \n",
            " 14  features_suites           69588 non-null  int64  \n",
            " 15  features_parkingSpaces    69588 non-null  int64  \n",
            " 16  features_usableAreas      69588 non-null  object \n",
            " 17  features_totalAreas       69588 non-null  object \n",
            " 18  features_floors           69588 non-null  int64  \n",
            " 19  features_unitsOnTheFloor  69588 non-null  int64  \n",
            " 20  features_unitFloor        69588 non-null  int64  \n",
            "dtypes: float64(2), int64(7), object(12)\n",
            "memory usage: 11.1+ MB\n"
          ]
        }
      ],
      "source": [
        "data_properties.info()"
      ]
    },
    {
      "cell_type": "code",
      "execution_count": 27,
      "metadata": {
        "id": "kdfx3P_yjotv"
      },
      "outputs": [
        {
          "name": "stdout",
          "output_type": "stream",
          "text": [
            "<class 'pandas.core.frame.DataFrame'>\n",
            "RangeIndex: 69588 entries, 0 to 69587\n",
            "Data columns (total 21 columns):\n",
            " #   Column                    Non-Null Count  Dtype  \n",
            "---  ------                    --------------  -----  \n",
            " 0   customerID                69588 non-null  object \n",
            " 1   source                    69588 non-null  object \n",
            " 2   types_unit                69588 non-null  object \n",
            " 3   types_usage               69588 non-null  object \n",
            " 4   address_city              69588 non-null  object \n",
            " 5   address_location_lon      69449 non-null  float64\n",
            " 6   address_location_lat      69449 non-null  float64\n",
            " 7   address_zone              69588 non-null  object \n",
            " 8   address_neighborhood      69588 non-null  object \n",
            " 9   prices_price              69588 non-null  float64\n",
            " 10  prices_tax_iptu           60863 non-null  float64\n",
            " 11  prices_tax_condo          63527 non-null  float64\n",
            " 12  features_bedrooms         69588 non-null  int64  \n",
            " 13  features_bathrooms        69588 non-null  int64  \n",
            " 14  features_suites           69588 non-null  int64  \n",
            " 15  features_parkingSpaces    69588 non-null  int64  \n",
            " 16  features_usableAreas      69588 non-null  float64\n",
            " 17  features_totalAreas       69588 non-null  float64\n",
            " 18  features_floors           69588 non-null  int64  \n",
            " 19  features_unitsOnTheFloor  69588 non-null  int64  \n",
            " 20  features_unitFloor        69588 non-null  int64  \n",
            "dtypes: float64(7), int64(7), object(7)\n",
            "memory usage: 11.1+ MB\n"
          ]
        }
      ],
      "source": [
        "data_properties = data_properties.astype({\n",
        "    'prices_price': 'float64',\n",
        "    'prices_tax_iptu': 'float64',\n",
        "    'prices_tax_condo': 'float64',\n",
        "    'features_usableAreas': 'float64',\n",
        "    'features_totalAreas': 'float64'\n",
        "})\n",
        "\n",
        "data_properties.info()"
      ]
    },
    {
      "cell_type": "markdown",
      "metadata": {
        "id": "ZQZNqAgJjot2"
      },
      "source": [
        "## Tratamento de dados final"
      ]
    },
    {
      "cell_type": "markdown",
      "metadata": {
        "id": "kvIsnpG0jotw"
      },
      "source": [
        "### Lidando com dados nulos"
      ]
    },
    {
      "cell_type": "markdown",
      "metadata": {
        "id": "yaysvPw2jotw"
      },
      "source": [
        "#### Dados nulos zone"
      ]
    },
    {
      "cell_type": "code",
      "execution_count": 28,
      "metadata": {
        "id": "MN9Pci0_jotw"
      },
      "outputs": [
        {
          "data": {
            "text/plain": [
              "address_zone\n",
              "Zona Oeste      35523\n",
              "Zona Sul        18535\n",
              "Zona Norte      14379\n",
              "Zona Central     1002\n",
              "                  149\n",
              "Name: count, dtype: int64"
            ]
          },
          "execution_count": 28,
          "metadata": {},
          "output_type": "execute_result"
        }
      ],
      "source": [
        "data_properties.address_zone.value_counts()"
      ]
    },
    {
      "cell_type": "code",
      "execution_count": 29,
      "metadata": {
        "id": "s2PoMPrNjotw"
      },
      "outputs": [],
      "source": [
        "data_properties['address_zone'] = data_properties['address_zone'].replace('', np.nan)"
      ]
    },
    {
      "cell_type": "code",
      "execution_count": 30,
      "metadata": {
        "id": "lRRIa3M5jotx"
      },
      "outputs": [],
      "source": [
        "dict = data_properties[~data_properties['address_zone'].isna()].drop_duplicates(subset=['address_neighborhood']).to_dict('records')"
      ]
    },
    {
      "cell_type": "code",
      "execution_count": 31,
      "metadata": {
        "id": "eiNv690Fjotx"
      },
      "outputs": [],
      "source": [
        "dict_zone = {dic['address_neighborhood']: dic['address_zone'] for dic in dict}"
      ]
    },
    {
      "cell_type": "code",
      "execution_count": 32,
      "metadata": {
        "id": "WQodJOf3joty"
      },
      "outputs": [],
      "source": [
        "for neighbor, zone in dict_zone.items(): data_properties.loc[data_properties['address_neighborhood'] == neighbor, 'address_zone'] = zone"
      ]
    },
    {
      "cell_type": "markdown",
      "metadata": {
        "id": "1EU9EG9vjotz"
      },
      "source": [
        "#### Dados nulos prices"
      ]
    },
    {
      "cell_type": "code",
      "execution_count": null,
      "metadata": {
        "id": "C4kdOgqujotz"
      },
      "outputs": [
        {
          "ename": "AttributeError",
          "evalue": "'DataFrame' object has no attribute 'prices_tax_iptu'",
          "output_type": "error",
          "traceback": [
            "\u001b[31m---------------------------------------------------------------------------\u001b[39m",
            "\u001b[31mAttributeError\u001b[39m                            Traceback (most recent call last)",
            "\u001b[32m~\\AppData\\Local\\Temp\\ipykernel_32652\\3534598187.py\u001b[39m in \u001b[36m?\u001b[39m\u001b[34m()\u001b[39m\n\u001b[32m----> \u001b[39m\u001b[32m1\u001b[39m data_properties.prices_tax_iptu.fillna(\u001b[32m0\u001b[39m, inplace=\u001b[38;5;28;01mTrue\u001b[39;00m)\n\u001b[32m      2\u001b[39m data_properties.prices_tax_condo.fillna(\u001b[32m0\u001b[39m, inplace=\u001b[38;5;28;01mTrue\u001b[39;00m)\n\u001b[32m      3\u001b[39m \n\u001b[32m      4\u001b[39m print(f\"Total de prices nulos: {data_properties.tax_iptu.isnull().sum()}\")\n",
            "\u001b[32mc:\\Users\\anaca\\AppData\\Local\\Programs\\Python\\Python313\\Lib\\site-packages\\pandas\\core\\generic.py\u001b[39m in \u001b[36m?\u001b[39m\u001b[34m(self, name)\u001b[39m\n\u001b[32m   6295\u001b[39m             \u001b[38;5;28;01mand\u001b[39;00m name \u001b[38;5;28;01mnot\u001b[39;00m \u001b[38;5;28;01min\u001b[39;00m self._accessors\n\u001b[32m   6296\u001b[39m             \u001b[38;5;28;01mand\u001b[39;00m self._info_axis._can_hold_identifiers_and_holds_name(name)\n\u001b[32m   6297\u001b[39m         ):\n\u001b[32m   6298\u001b[39m             \u001b[38;5;28;01mreturn\u001b[39;00m self[name]\n\u001b[32m-> \u001b[39m\u001b[32m6299\u001b[39m         \u001b[38;5;28;01mreturn\u001b[39;00m object.__getattribute__(self, name)\n",
            "\u001b[31mAttributeError\u001b[39m: 'DataFrame' object has no attribute 'prices_tax_iptu'"
          ]
        }
      ],
      "source": [
        "data_properties.prices_tax_iptu.fillna(0, inplace=True)\n",
        "data_properties.prices_tax_condo.fillna(0, inplace=True)\n"
      ]
    },
    {
      "cell_type": "markdown",
      "metadata": {
        "id": "wRjLUDMKjot2"
      },
      "source": [
        "### Alterar o nome das colunas e seleção de variáveis"
      ]
    },
    {
      "cell_type": "code",
      "execution_count": 34,
      "metadata": {
        "id": "ZO01Zqc7lLyV"
      },
      "outputs": [],
      "source": [
        "data_properties.drop(['customerID', 'source', 'types_usage', 'address_city', \n",
        "                    'address_location_lon', 'address_location_lat','address_neighborhood' ], axis = 1, inplace=True)"
      ]
    },
    {
      "cell_type": "code",
      "execution_count": 40,
      "metadata": {
        "id": "HLT13EDejot2"
      },
      "outputs": [
        {
          "data": {
            "text/html": [
              "<div>\n",
              "<style scoped>\n",
              "    .dataframe tbody tr th:only-of-type {\n",
              "        vertical-align: middle;\n",
              "    }\n",
              "\n",
              "    .dataframe tbody tr th {\n",
              "        vertical-align: top;\n",
              "    }\n",
              "\n",
              "    .dataframe thead th {\n",
              "        text-align: right;\n",
              "    }\n",
              "</style>\n",
              "<table border=\"1\" class=\"dataframe\">\n",
              "  <thead>\n",
              "    <tr style=\"text-align: right;\">\n",
              "      <th></th>\n",
              "      <th>unit</th>\n",
              "      <th>zone</th>\n",
              "      <th>price</th>\n",
              "      <th>tax_iptu</th>\n",
              "      <th>tax_condo</th>\n",
              "      <th>bedrooms</th>\n",
              "      <th>bathrooms</th>\n",
              "      <th>suites</th>\n",
              "      <th>parkingSpaces</th>\n",
              "      <th>usableAreas</th>\n",
              "      <th>totalAreas</th>\n",
              "      <th>floors</th>\n",
              "      <th>unitsOnTheFloor</th>\n",
              "      <th>unitFloor</th>\n",
              "    </tr>\n",
              "  </thead>\n",
              "  <tbody>\n",
              "    <tr>\n",
              "      <th>0</th>\n",
              "      <td>Outros</td>\n",
              "      <td>Zona Oeste</td>\n",
              "      <td>45000.0</td>\n",
              "      <td>0.0</td>\n",
              "      <td>150.0</td>\n",
              "      <td>0</td>\n",
              "      <td>0</td>\n",
              "      <td>0</td>\n",
              "      <td>1</td>\n",
              "      <td>62.0</td>\n",
              "      <td>62.0</td>\n",
              "      <td>0</td>\n",
              "      <td>0</td>\n",
              "      <td>0</td>\n",
              "    </tr>\n",
              "    <tr>\n",
              "      <th>1</th>\n",
              "      <td>Apartamento</td>\n",
              "      <td>Zona Oeste</td>\n",
              "      <td>45000.0</td>\n",
              "      <td>0.0</td>\n",
              "      <td>120.0</td>\n",
              "      <td>2</td>\n",
              "      <td>1</td>\n",
              "      <td>0</td>\n",
              "      <td>1</td>\n",
              "      <td>44.0</td>\n",
              "      <td>0.0</td>\n",
              "      <td>0</td>\n",
              "      <td>0</td>\n",
              "      <td>0</td>\n",
              "    </tr>\n",
              "    <tr>\n",
              "      <th>2</th>\n",
              "      <td>Outros</td>\n",
              "      <td>Zona Oeste</td>\n",
              "      <td>50000.0</td>\n",
              "      <td>0.0</td>\n",
              "      <td>100.0</td>\n",
              "      <td>0</td>\n",
              "      <td>0</td>\n",
              "      <td>0</td>\n",
              "      <td>0</td>\n",
              "      <td>132.0</td>\n",
              "      <td>132.0</td>\n",
              "      <td>0</td>\n",
              "      <td>0</td>\n",
              "      <td>0</td>\n",
              "    </tr>\n",
              "    <tr>\n",
              "      <th>3</th>\n",
              "      <td>Apartamento</td>\n",
              "      <td>Zona Oeste</td>\n",
              "      <td>50000.0</td>\n",
              "      <td>120.0</td>\n",
              "      <td>400.0</td>\n",
              "      <td>3</td>\n",
              "      <td>2</td>\n",
              "      <td>1</td>\n",
              "      <td>1</td>\n",
              "      <td>60.0</td>\n",
              "      <td>0.0</td>\n",
              "      <td>3</td>\n",
              "      <td>4</td>\n",
              "      <td>2</td>\n",
              "    </tr>\n",
              "    <tr>\n",
              "      <th>4</th>\n",
              "      <td>Outros</td>\n",
              "      <td>Zona Oeste</td>\n",
              "      <td>50000.0</td>\n",
              "      <td>0.0</td>\n",
              "      <td>0.0</td>\n",
              "      <td>0</td>\n",
              "      <td>0</td>\n",
              "      <td>0</td>\n",
              "      <td>0</td>\n",
              "      <td>200.0</td>\n",
              "      <td>200.0</td>\n",
              "      <td>0</td>\n",
              "      <td>0</td>\n",
              "      <td>0</td>\n",
              "    </tr>\n",
              "  </tbody>\n",
              "</table>\n",
              "</div>"
            ],
            "text/plain": [
              "          unit        zone    price  tax_iptu  tax_condo  bedrooms  bathrooms  \\\n",
              "0       Outros  Zona Oeste  45000.0       0.0      150.0         0          0   \n",
              "1  Apartamento  Zona Oeste  45000.0       0.0      120.0         2          1   \n",
              "2       Outros  Zona Oeste  50000.0       0.0      100.0         0          0   \n",
              "3  Apartamento  Zona Oeste  50000.0     120.0      400.0         3          2   \n",
              "4       Outros  Zona Oeste  50000.0       0.0        0.0         0          0   \n",
              "\n",
              "   suites  parkingSpaces  usableAreas  totalAreas  floors  unitsOnTheFloor  \\\n",
              "0       0              1         62.0        62.0       0                0   \n",
              "1       0              1         44.0         0.0       0                0   \n",
              "2       0              0        132.0       132.0       0                0   \n",
              "3       1              1         60.0         0.0       3                4   \n",
              "4       0              0        200.0       200.0       0                0   \n",
              "\n",
              "   unitFloor  \n",
              "0          0  \n",
              "1          0  \n",
              "2          0  \n",
              "3          2  \n",
              "4          0  "
            ]
          },
          "execution_count": 40,
          "metadata": {},
          "output_type": "execute_result"
        }
      ],
      "source": [
        "dict_columns = {'types_unit': 'unit', 'address_zone': 'zone', 'prices_price': 'price',\n",
        "                     'prices_tax_condo': 'tax_condo', 'prices_tax_iptu': 'tax_iptu', 'features_bedrooms': 'bedrooms',\n",
        "                      'features_bathrooms': 'bathrooms', 'features_suites': 'suites', 'features_parkingSpaces': 'parkingSpaces',\n",
        "                      'features_usableAreas': 'usableAreas', 'features_totalAreas':'totalAreas', 'features_floors':'floors',\n",
        "                      'features_unitsOnTheFloor':'unitsOnTheFloor', 'features_unitFloor':'unitFloor'}\n",
        "\n",
        "data_properties = data_properties.rename(dict_columns, axis = 1)\n",
        "data_properties.head()"
      ]
    },
    {
      "cell_type": "markdown",
      "metadata": {
        "id": "2W6DLSKVjot1"
      },
      "source": [
        "# Regressão linear"
      ]
    },
    {
      "cell_type": "markdown",
      "metadata": {
        "id": "aQShHdqZjot2"
      },
      "source": [
        "## Correlação"
      ]
    },
    {
      "cell_type": "markdown",
      "metadata": {
        "id": "gRLWHhMvDyXm"
      },
      "source": [
        "*   Correlação: grau da relação entre variáveis. Pode ser positiva ou negativa essa relação. \n",
        "\n",
        "*   Multicolinearidade: relação perfeita ou exata entre variáveis.\n",
        "\n",
        "\n",
        "\n",
        "**Dica de leitura:** [Estatística prática para cientistas de dados: 50 conceitos essenciais](https://www.amazon.com.br/Estat%C3%ADstica-Pr%C3%A1tica-Para-Cientistas-Dados/dp/855080603X/ref=sr_1_21?__mk_pt_BR=%C3%85M%C3%85%C5%BD%C3%95%C3%91&crid=1JJ44C5LJXLR3&keywords=data+science&qid=1657892785&sprefix=data+science%2Caps%2C201&sr=8-21)\n",
        "e [Estatística: O que é, para que serve e como funciona](https://www.amazon.com.br/Estat%C3%ADstica-para-serve-como-funciona/dp/8537815128/ref=pd_sbs_sccl_3_1/137-9319794-7502061?pd_rd_w=EQoo7&content-id=amzn1.sym.d27ac626-cb3c-4c30-830f-0fd405f2510f&pf_rd_p=d27ac626-cb3c-4c30-830f-0fd405f2510f&pf_rd_r=E896BYW6W206YVVR3SHA&pd_rd_wg=3O0Cg&pd_rd_r=3e3910b0-5f34-4a57-87b2-1d918494d614&pd_rd_i=8537815128&psc=1) [(Naked Statistics: Stripping the Dread from the Data - versão em inglês)](https://www.amazon.com.br/Naked-Statistics-Stripping-Dread-Data/dp/039334777X/ref=sr_1_2?keywords=naked+statistics&qid=1657893464&sprefix=naked+st%2Caps%2C267&sr=8-2&ufe=app_do%3Aamzn1.fos.6a09f7ec-d911-4889-ad70-de8dd83c8a74)"
      ]
    },
    {
      "cell_type": "code",
      "execution_count": 43,
      "metadata": {
        "id": "prcdE8k2jot3"
      },
      "outputs": [
        {
          "data": {
            "text/html": [
              "<div>\n",
              "<style scoped>\n",
              "    .dataframe tbody tr th:only-of-type {\n",
              "        vertical-align: middle;\n",
              "    }\n",
              "\n",
              "    .dataframe tbody tr th {\n",
              "        vertical-align: top;\n",
              "    }\n",
              "\n",
              "    .dataframe thead th {\n",
              "        text-align: right;\n",
              "    }\n",
              "</style>\n",
              "<table border=\"1\" class=\"dataframe\">\n",
              "  <thead>\n",
              "    <tr style=\"text-align: right;\">\n",
              "      <th></th>\n",
              "      <th>price</th>\n",
              "      <th>tax_iptu</th>\n",
              "      <th>tax_condo</th>\n",
              "      <th>bedrooms</th>\n",
              "      <th>bathrooms</th>\n",
              "      <th>suites</th>\n",
              "      <th>parkingSpaces</th>\n",
              "      <th>usableAreas</th>\n",
              "      <th>totalAreas</th>\n",
              "      <th>floors</th>\n",
              "      <th>unitsOnTheFloor</th>\n",
              "      <th>unitFloor</th>\n",
              "    </tr>\n",
              "  </thead>\n",
              "  <tbody>\n",
              "    <tr>\n",
              "      <th>price</th>\n",
              "      <td>1.000000</td>\n",
              "      <td>0.029751</td>\n",
              "      <td>0.047704</td>\n",
              "      <td>0.530474</td>\n",
              "      <td>0.571725</td>\n",
              "      <td>0.588738</td>\n",
              "      <td>0.423186</td>\n",
              "      <td>0.692502</td>\n",
              "      <td>-0.000619</td>\n",
              "      <td>-0.061910</td>\n",
              "      <td>-0.133700</td>\n",
              "      <td>-0.000143</td>\n",
              "    </tr>\n",
              "    <tr>\n",
              "      <th>tax_iptu</th>\n",
              "      <td>0.029751</td>\n",
              "      <td>1.000000</td>\n",
              "      <td>0.226213</td>\n",
              "      <td>0.013625</td>\n",
              "      <td>0.015086</td>\n",
              "      <td>0.019101</td>\n",
              "      <td>0.009720</td>\n",
              "      <td>0.014654</td>\n",
              "      <td>-0.000164</td>\n",
              "      <td>0.006704</td>\n",
              "      <td>0.005044</td>\n",
              "      <td>0.001204</td>\n",
              "    </tr>\n",
              "    <tr>\n",
              "      <th>tax_condo</th>\n",
              "      <td>0.047704</td>\n",
              "      <td>0.226213</td>\n",
              "      <td>1.000000</td>\n",
              "      <td>0.018460</td>\n",
              "      <td>0.020009</td>\n",
              "      <td>0.023479</td>\n",
              "      <td>0.018010</td>\n",
              "      <td>0.019712</td>\n",
              "      <td>-0.000313</td>\n",
              "      <td>0.013821</td>\n",
              "      <td>-0.000528</td>\n",
              "      <td>0.003072</td>\n",
              "    </tr>\n",
              "    <tr>\n",
              "      <th>bedrooms</th>\n",
              "      <td>0.530474</td>\n",
              "      <td>0.013625</td>\n",
              "      <td>0.018460</td>\n",
              "      <td>1.000000</td>\n",
              "      <td>0.665958</td>\n",
              "      <td>0.600596</td>\n",
              "      <td>0.467391</td>\n",
              "      <td>0.563545</td>\n",
              "      <td>-0.000532</td>\n",
              "      <td>-0.082025</td>\n",
              "      <td>-0.130611</td>\n",
              "      <td>-0.007146</td>\n",
              "    </tr>\n",
              "    <tr>\n",
              "      <th>bathrooms</th>\n",
              "      <td>0.571725</td>\n",
              "      <td>0.015086</td>\n",
              "      <td>0.020009</td>\n",
              "      <td>0.665958</td>\n",
              "      <td>1.000000</td>\n",
              "      <td>0.752495</td>\n",
              "      <td>0.487624</td>\n",
              "      <td>0.597793</td>\n",
              "      <td>0.000041</td>\n",
              "      <td>-0.044552</td>\n",
              "      <td>-0.107347</td>\n",
              "      <td>0.007599</td>\n",
              "    </tr>\n",
              "    <tr>\n",
              "      <th>suites</th>\n",
              "      <td>0.588738</td>\n",
              "      <td>0.019101</td>\n",
              "      <td>0.023479</td>\n",
              "      <td>0.600596</td>\n",
              "      <td>0.752495</td>\n",
              "      <td>1.000000</td>\n",
              "      <td>0.484850</td>\n",
              "      <td>0.577344</td>\n",
              "      <td>0.003971</td>\n",
              "      <td>-0.047576</td>\n",
              "      <td>-0.091408</td>\n",
              "      <td>0.005300</td>\n",
              "    </tr>\n",
              "    <tr>\n",
              "      <th>parkingSpaces</th>\n",
              "      <td>0.423186</td>\n",
              "      <td>0.009720</td>\n",
              "      <td>0.018010</td>\n",
              "      <td>0.467391</td>\n",
              "      <td>0.487624</td>\n",
              "      <td>0.484850</td>\n",
              "      <td>1.000000</td>\n",
              "      <td>0.483709</td>\n",
              "      <td>-0.000062</td>\n",
              "      <td>-0.048310</td>\n",
              "      <td>-0.074348</td>\n",
              "      <td>0.003788</td>\n",
              "    </tr>\n",
              "    <tr>\n",
              "      <th>usableAreas</th>\n",
              "      <td>0.692502</td>\n",
              "      <td>0.014654</td>\n",
              "      <td>0.019712</td>\n",
              "      <td>0.563545</td>\n",
              "      <td>0.597793</td>\n",
              "      <td>0.577344</td>\n",
              "      <td>0.483709</td>\n",
              "      <td>1.000000</td>\n",
              "      <td>-0.000214</td>\n",
              "      <td>-0.103729</td>\n",
              "      <td>-0.144041</td>\n",
              "      <td>-0.012715</td>\n",
              "    </tr>\n",
              "    <tr>\n",
              "      <th>totalAreas</th>\n",
              "      <td>-0.000619</td>\n",
              "      <td>-0.000164</td>\n",
              "      <td>-0.000313</td>\n",
              "      <td>-0.000532</td>\n",
              "      <td>0.000041</td>\n",
              "      <td>0.003971</td>\n",
              "      <td>-0.000062</td>\n",
              "      <td>-0.000214</td>\n",
              "      <td>1.000000</td>\n",
              "      <td>0.014677</td>\n",
              "      <td>0.003975</td>\n",
              "      <td>0.002329</td>\n",
              "    </tr>\n",
              "    <tr>\n",
              "      <th>floors</th>\n",
              "      <td>-0.061910</td>\n",
              "      <td>0.006704</td>\n",
              "      <td>0.013821</td>\n",
              "      <td>-0.082025</td>\n",
              "      <td>-0.044552</td>\n",
              "      <td>-0.047576</td>\n",
              "      <td>-0.048310</td>\n",
              "      <td>-0.103729</td>\n",
              "      <td>0.014677</td>\n",
              "      <td>1.000000</td>\n",
              "      <td>0.737802</td>\n",
              "      <td>0.121067</td>\n",
              "    </tr>\n",
              "    <tr>\n",
              "      <th>unitsOnTheFloor</th>\n",
              "      <td>-0.133700</td>\n",
              "      <td>0.005044</td>\n",
              "      <td>-0.000528</td>\n",
              "      <td>-0.130611</td>\n",
              "      <td>-0.107347</td>\n",
              "      <td>-0.091408</td>\n",
              "      <td>-0.074348</td>\n",
              "      <td>-0.144041</td>\n",
              "      <td>0.003975</td>\n",
              "      <td>0.737802</td>\n",
              "      <td>1.000000</td>\n",
              "      <td>0.092434</td>\n",
              "    </tr>\n",
              "    <tr>\n",
              "      <th>unitFloor</th>\n",
              "      <td>-0.000143</td>\n",
              "      <td>0.001204</td>\n",
              "      <td>0.003072</td>\n",
              "      <td>-0.007146</td>\n",
              "      <td>0.007599</td>\n",
              "      <td>0.005300</td>\n",
              "      <td>0.003788</td>\n",
              "      <td>-0.012715</td>\n",
              "      <td>0.002329</td>\n",
              "      <td>0.121067</td>\n",
              "      <td>0.092434</td>\n",
              "      <td>1.000000</td>\n",
              "    </tr>\n",
              "  </tbody>\n",
              "</table>\n",
              "</div>"
            ],
            "text/plain": [
              "                    price  tax_iptu  tax_condo  bedrooms  bathrooms    suites  \\\n",
              "price            1.000000  0.029751   0.047704  0.530474   0.571725  0.588738   \n",
              "tax_iptu         0.029751  1.000000   0.226213  0.013625   0.015086  0.019101   \n",
              "tax_condo        0.047704  0.226213   1.000000  0.018460   0.020009  0.023479   \n",
              "bedrooms         0.530474  0.013625   0.018460  1.000000   0.665958  0.600596   \n",
              "bathrooms        0.571725  0.015086   0.020009  0.665958   1.000000  0.752495   \n",
              "suites           0.588738  0.019101   0.023479  0.600596   0.752495  1.000000   \n",
              "parkingSpaces    0.423186  0.009720   0.018010  0.467391   0.487624  0.484850   \n",
              "usableAreas      0.692502  0.014654   0.019712  0.563545   0.597793  0.577344   \n",
              "totalAreas      -0.000619 -0.000164  -0.000313 -0.000532   0.000041  0.003971   \n",
              "floors          -0.061910  0.006704   0.013821 -0.082025  -0.044552 -0.047576   \n",
              "unitsOnTheFloor -0.133700  0.005044  -0.000528 -0.130611  -0.107347 -0.091408   \n",
              "unitFloor       -0.000143  0.001204   0.003072 -0.007146   0.007599  0.005300   \n",
              "\n",
              "                 parkingSpaces  usableAreas  totalAreas    floors  \\\n",
              "price                 0.423186     0.692502   -0.000619 -0.061910   \n",
              "tax_iptu              0.009720     0.014654   -0.000164  0.006704   \n",
              "tax_condo             0.018010     0.019712   -0.000313  0.013821   \n",
              "bedrooms              0.467391     0.563545   -0.000532 -0.082025   \n",
              "bathrooms             0.487624     0.597793    0.000041 -0.044552   \n",
              "suites                0.484850     0.577344    0.003971 -0.047576   \n",
              "parkingSpaces         1.000000     0.483709   -0.000062 -0.048310   \n",
              "usableAreas           0.483709     1.000000   -0.000214 -0.103729   \n",
              "totalAreas           -0.000062    -0.000214    1.000000  0.014677   \n",
              "floors               -0.048310    -0.103729    0.014677  1.000000   \n",
              "unitsOnTheFloor      -0.074348    -0.144041    0.003975  0.737802   \n",
              "unitFloor             0.003788    -0.012715    0.002329  0.121067   \n",
              "\n",
              "                 unitsOnTheFloor  unitFloor  \n",
              "price                  -0.133700  -0.000143  \n",
              "tax_iptu                0.005044   0.001204  \n",
              "tax_condo              -0.000528   0.003072  \n",
              "bedrooms               -0.130611  -0.007146  \n",
              "bathrooms              -0.107347   0.007599  \n",
              "suites                 -0.091408   0.005300  \n",
              "parkingSpaces          -0.074348   0.003788  \n",
              "usableAreas            -0.144041  -0.012715  \n",
              "totalAreas              0.003975   0.002329  \n",
              "floors                  0.737802   0.121067  \n",
              "unitsOnTheFloor         1.000000   0.092434  \n",
              "unitFloor               0.092434   1.000000  "
            ]
          },
          "execution_count": 43,
          "metadata": {},
          "output_type": "execute_result"
        }
      ],
      "source": [
        "correlation = data_properties.corr(numeric_only=True)\n",
        "correlation"
      ]
    },
    {
      "cell_type": "markdown",
      "metadata": {
        "id": "dic6lmcpjot4"
      },
      "source": [
        "Para mais detalhes consultar [Documentação Seaborn](https://seaborn.pydata.org/generated/seaborn.heatmap.html)"
      ]
    },
    {
      "cell_type": "code",
      "execution_count": 45,
      "metadata": {
        "id": "j4Z5ecHkjot4"
      },
      "outputs": [
        {
          "data": {
            "image/png": "[encoded data removed]",
            "text/plain": [
              "<Figure size 1300x800 with 2 Axes>"
            ]
          },
          "metadata": {},
          "output_type": "display_data"
        }
      ],
      "source": [
        "import matplotlib.pyplot as plt\n",
        "import seaborn as sns\n",
        "\n",
        "colors = sns.color_palette('light:salmon', as_cmap=True)\n",
        "mask = np.zeros_like(correlation)\n",
        "mask[np.triu_indices_from(mask)] = True\n",
        "with sns.axes_style(\"white\"):\n",
        "    f, ax = plt.subplots(figsize=(13, 8))\n",
        "    ax = sns.heatmap(correlation, cmap=colors, mask=mask, square=True, fmt='.2f', annot=True)"
      ]
    },
    {
      "cell_type": "markdown",
      "metadata": {
        "id": "6LjngPTujot4"
      },
      "source": [
        "Análise da distribuição da variável resposta."
      ]
    },
    {
      "cell_type": "markdown",
      "metadata": {},
      "source": [
        "Aqui da pra ver que nos dados, tem muito mais imoveis com preços mais baixos do que com preços mais altos, e isso pode causar um problema de acurácia no modelo\n",
        "É uma variação muito assimétrica\n",
        "Se eu treinar meu modelo assim, ele vai estar enviesado a valores mais baixos, mesmo que apareça uma casa com potencial para um valor muito alto"
      ]
    },
    {
      "cell_type": "code",
      "execution_count": 46,
      "metadata": {
        "id": "WqRkQ5e-jot5"
      },
      "outputs": [
        {
          "data": {
            "image/png": "[encoded data removed]",
            "text/plain": [
              "<Figure size 2000x1000 with 1 Axes>"
            ]
          },
          "metadata": {},
          "output_type": "display_data"
        }
      ],
      "source": [
        "#antes (distrib. assimetrica a direita)\n",
        "ax = sns.histplot(data=data_properties, x='price', kde=True)\n",
        "ax.figure.set_size_inches(20, 10)\n",
        "ax.set_title('Histograma de preços')\n",
        "ax.set_xlabel('Preço');"
      ]
    },
    {
      "cell_type": "markdown",
      "metadata": {
        "id": "WAhjZkomjot4"
      },
      "source": [
        "### Transformação das variáveis "
      ]
    },
    {
      "cell_type": "markdown",
      "metadata": {
        "id": "CkVVqamcjot5"
      },
      "source": [
        "Estamos realizando uma transformação logarítmica das variáveis para obtermos uma distribuição simétrica (mais próxima da normal), para que possamos usar o modelo de regressão linear. A transformação realizada é:\n",
        "\n",
        "\n",
        "$$log1p = log(1+x)$$\n",
        "\n",
        "\n",
        "Lembrar de realizar a transformação inversa para obter o valor original:\n",
        "\n",
        "\n",
        "$$expm1 = exp(x) - 1$$ \n",
        "\n",
        "\n",
        "\n",
        "\n",
        "* Para mais detalhes consultar as documentações [`log1p`](https://numpy.org/doc/stable/reference/generated/numpy.log1p.html), [`expm1`](https://numpy.org/doc/stable/reference/generated/numpy.expm1.html#numpy.expm1) e [`FunctionTransformer`](https://scikit-learn.org/stable/modules/generated/sklearn.preprocessing.FunctionTransformer.html#sklearn.preprocessing.FunctionTransformer)\n",
        "\n"
      ]
    },
    {
      "cell_type": "code",
      "execution_count": 48,
      "metadata": {
        "id": "wkrvIDpDjot5"
      },
      "outputs": [
        {
          "name": "stderr",
          "output_type": "stream",
          "text": [
            "c:\\Users\\anaca\\AppData\\Local\\Programs\\Python\\Python313\\Lib\\site-packages\\sklearn\\utils\\validation.py:2732: UserWarning: X has feature names, but FunctionTransformer was fitted without feature names\n",
            "  warnings.warn(\n"
          ]
        }
      ],
      "source": [
        "from sklearn.preprocessing import FunctionTransformer\n",
        "\n",
        "transformer = FunctionTransformer(np.log1p, validate=True)\n",
        "data_transformed = transformer.transform(data_properties.select_dtypes(exclude=['object']))"
      ]
    },
    {
      "cell_type": "code",
      "execution_count": 49,
      "metadata": {
        "id": "de_9YcKf65Wr"
      },
      "outputs": [
        {
          "data": {
            "text/html": [
              "<div>\n",
              "<style scoped>\n",
              "    .dataframe tbody tr th:only-of-type {\n",
              "        vertical-align: middle;\n",
              "    }\n",
              "\n",
              "    .dataframe tbody tr th {\n",
              "        vertical-align: top;\n",
              "    }\n",
              "\n",
              "    .dataframe thead th {\n",
              "        text-align: right;\n",
              "    }\n",
              "</style>\n",
              "<table border=\"1\" class=\"dataframe\">\n",
              "  <thead>\n",
              "    <tr style=\"text-align: right;\">\n",
              "      <th></th>\n",
              "      <th>unit</th>\n",
              "      <th>zone</th>\n",
              "      <th>price</th>\n",
              "      <th>tax_iptu</th>\n",
              "      <th>tax_condo</th>\n",
              "      <th>bedrooms</th>\n",
              "      <th>bathrooms</th>\n",
              "      <th>suites</th>\n",
              "      <th>parkingSpaces</th>\n",
              "      <th>usableAreas</th>\n",
              "      <th>totalAreas</th>\n",
              "      <th>floors</th>\n",
              "      <th>unitsOnTheFloor</th>\n",
              "      <th>unitFloor</th>\n",
              "    </tr>\n",
              "  </thead>\n",
              "  <tbody>\n",
              "    <tr>\n",
              "      <th>0</th>\n",
              "      <td>Outros</td>\n",
              "      <td>Zona Oeste</td>\n",
              "      <td>10.714440</td>\n",
              "      <td>0.000000</td>\n",
              "      <td>5.017280</td>\n",
              "      <td>0.000000</td>\n",
              "      <td>0.000000</td>\n",
              "      <td>0.000000</td>\n",
              "      <td>0.693147</td>\n",
              "      <td>4.143135</td>\n",
              "      <td>4.143135</td>\n",
              "      <td>0.000000</td>\n",
              "      <td>0.000000</td>\n",
              "      <td>0.000000</td>\n",
              "    </tr>\n",
              "    <tr>\n",
              "      <th>1</th>\n",
              "      <td>Apartamento</td>\n",
              "      <td>Zona Oeste</td>\n",
              "      <td>10.714440</td>\n",
              "      <td>0.000000</td>\n",
              "      <td>4.795791</td>\n",
              "      <td>1.098612</td>\n",
              "      <td>0.693147</td>\n",
              "      <td>0.000000</td>\n",
              "      <td>0.693147</td>\n",
              "      <td>3.806662</td>\n",
              "      <td>0.000000</td>\n",
              "      <td>0.000000</td>\n",
              "      <td>0.000000</td>\n",
              "      <td>0.000000</td>\n",
              "    </tr>\n",
              "    <tr>\n",
              "      <th>2</th>\n",
              "      <td>Outros</td>\n",
              "      <td>Zona Oeste</td>\n",
              "      <td>10.819798</td>\n",
              "      <td>0.000000</td>\n",
              "      <td>4.615121</td>\n",
              "      <td>0.000000</td>\n",
              "      <td>0.000000</td>\n",
              "      <td>0.000000</td>\n",
              "      <td>0.000000</td>\n",
              "      <td>4.890349</td>\n",
              "      <td>4.890349</td>\n",
              "      <td>0.000000</td>\n",
              "      <td>0.000000</td>\n",
              "      <td>0.000000</td>\n",
              "    </tr>\n",
              "    <tr>\n",
              "      <th>3</th>\n",
              "      <td>Apartamento</td>\n",
              "      <td>Zona Oeste</td>\n",
              "      <td>10.819798</td>\n",
              "      <td>4.795791</td>\n",
              "      <td>5.993961</td>\n",
              "      <td>1.386294</td>\n",
              "      <td>1.098612</td>\n",
              "      <td>0.693147</td>\n",
              "      <td>0.693147</td>\n",
              "      <td>4.110874</td>\n",
              "      <td>0.000000</td>\n",
              "      <td>1.386294</td>\n",
              "      <td>1.609438</td>\n",
              "      <td>1.098612</td>\n",
              "    </tr>\n",
              "    <tr>\n",
              "      <th>4</th>\n",
              "      <td>Outros</td>\n",
              "      <td>Zona Oeste</td>\n",
              "      <td>10.819798</td>\n",
              "      <td>0.000000</td>\n",
              "      <td>0.000000</td>\n",
              "      <td>0.000000</td>\n",
              "      <td>0.000000</td>\n",
              "      <td>0.000000</td>\n",
              "      <td>0.000000</td>\n",
              "      <td>5.303305</td>\n",
              "      <td>5.303305</td>\n",
              "      <td>0.000000</td>\n",
              "      <td>0.000000</td>\n",
              "      <td>0.000000</td>\n",
              "    </tr>\n",
              "  </tbody>\n",
              "</table>\n",
              "</div>"
            ],
            "text/plain": [
              "          unit        zone      price  tax_iptu  tax_condo  bedrooms  \\\n",
              "0       Outros  Zona Oeste  10.714440  0.000000   5.017280  0.000000   \n",
              "1  Apartamento  Zona Oeste  10.714440  0.000000   4.795791  1.098612   \n",
              "2       Outros  Zona Oeste  10.819798  0.000000   4.615121  0.000000   \n",
              "3  Apartamento  Zona Oeste  10.819798  4.795791   5.993961  1.386294   \n",
              "4       Outros  Zona Oeste  10.819798  0.000000   0.000000  0.000000   \n",
              "\n",
              "   bathrooms    suites  parkingSpaces  usableAreas  totalAreas    floors  \\\n",
              "0   0.000000  0.000000       0.693147     4.143135    4.143135  0.000000   \n",
              "1   0.693147  0.000000       0.693147     3.806662    0.000000  0.000000   \n",
              "2   0.000000  0.000000       0.000000     4.890349    4.890349  0.000000   \n",
              "3   1.098612  0.693147       0.693147     4.110874    0.000000  1.386294   \n",
              "4   0.000000  0.000000       0.000000     5.303305    5.303305  0.000000   \n",
              "\n",
              "   unitsOnTheFloor  unitFloor  \n",
              "0         0.000000   0.000000  \n",
              "1         0.000000   0.000000  \n",
              "2         0.000000   0.000000  \n",
              "3         1.609438   1.098612  \n",
              "4         0.000000   0.000000  "
            ]
          },
          "execution_count": 49,
          "metadata": {},
          "output_type": "execute_result"
        }
      ],
      "source": [
        "columns_transformed_data = data_properties.select_dtypes(exclude=['object']).columns\n",
        "\n",
        "df_transformed = pd.concat([data_properties.select_dtypes(include=['object']), pd.DataFrame(data_transformed, columns=columns_transformed_data)], axis=1)\n",
        "df_transformed.head()"
      ]
    },
    {
      "cell_type": "code",
      "execution_count": 52,
      "metadata": {
        "id": "aNuAONIPjot5"
      },
      "outputs": [
        {
          "data": {
            "text/plain": [
              "Text(0.5, 0, 'Preço')"
            ]
          },
          "execution_count": 52,
          "metadata": {},
          "output_type": "execute_result"
        },
        {
          "data": {
            "image/png": "[encoded data removed]",
            "text/plain": [
              "<Figure size 2000x1000 with 1 Axes>"
            ]
          },
          "metadata": {},
          "output_type": "display_data"
        }
      ],
      "source": [
        "ax = sns.histplot(data=df_transformed, x='price', kde=True)\n",
        "ax.figure.set_size_inches(20, 10)\n",
        "ax.set_title('Histograma de preços - Depois de transformado')\n",
        "ax.set_xlabel('Preço')"
      ]
    },
    {
      "cell_type": "markdown",
      "metadata": {
        "id": "Lnc270Yqjot6"
      },
      "source": [
        "### Dummies"
      ]
    },
    {
      "cell_type": "code",
      "execution_count": 53,
      "metadata": {
        "id": "CU3gB5Vkjot6"
      },
      "outputs": [
        {
          "data": {
            "text/plain": [
              "Index(['unit', 'zone'], dtype='object')"
            ]
          },
          "execution_count": 53,
          "metadata": {},
          "output_type": "execute_result"
        }
      ],
      "source": [
        "#o que são variáveis categóricas?\n",
        "categorigal_vars = df_transformed.select_dtypes(include=['object']).columns\n",
        "categorigal_vars"
      ]
    },
    {
      "cell_type": "markdown",
      "metadata": {},
      "source": [
        "cada categoria é transformada numa nova categoria com valor número (0 ou 1, é ou não é). Assim tratamos as variáveis categóricas"
      ]
    },
    {
      "cell_type": "code",
      "execution_count": 54,
      "metadata": {
        "id": "TwNvfYoTgndG"
      },
      "outputs": [
        {
          "data": {
            "text/html": [
              "<div>\n",
              "<style scoped>\n",
              "    .dataframe tbody tr th:only-of-type {\n",
              "        vertical-align: middle;\n",
              "    }\n",
              "\n",
              "    .dataframe tbody tr th {\n",
              "        vertical-align: top;\n",
              "    }\n",
              "\n",
              "    .dataframe thead th {\n",
              "        text-align: right;\n",
              "    }\n",
              "</style>\n",
              "<table border=\"1\" class=\"dataframe\">\n",
              "  <thead>\n",
              "    <tr style=\"text-align: right;\">\n",
              "      <th></th>\n",
              "      <th>unit_Apartamento</th>\n",
              "      <th>unit_Casa</th>\n",
              "      <th>unit_Outros</th>\n",
              "      <th>zone_Zona Central</th>\n",
              "      <th>zone_Zona Norte</th>\n",
              "      <th>zone_Zona Oeste</th>\n",
              "      <th>zone_Zona Sul</th>\n",
              "    </tr>\n",
              "  </thead>\n",
              "  <tbody>\n",
              "    <tr>\n",
              "      <th>0</th>\n",
              "      <td>False</td>\n",
              "      <td>False</td>\n",
              "      <td>True</td>\n",
              "      <td>False</td>\n",
              "      <td>False</td>\n",
              "      <td>True</td>\n",
              "      <td>False</td>\n",
              "    </tr>\n",
              "    <tr>\n",
              "      <th>1</th>\n",
              "      <td>True</td>\n",
              "      <td>False</td>\n",
              "      <td>False</td>\n",
              "      <td>False</td>\n",
              "      <td>False</td>\n",
              "      <td>True</td>\n",
              "      <td>False</td>\n",
              "    </tr>\n",
              "    <tr>\n",
              "      <th>2</th>\n",
              "      <td>False</td>\n",
              "      <td>False</td>\n",
              "      <td>True</td>\n",
              "      <td>False</td>\n",
              "      <td>False</td>\n",
              "      <td>True</td>\n",
              "      <td>False</td>\n",
              "    </tr>\n",
              "    <tr>\n",
              "      <th>3</th>\n",
              "      <td>True</td>\n",
              "      <td>False</td>\n",
              "      <td>False</td>\n",
              "      <td>False</td>\n",
              "      <td>False</td>\n",
              "      <td>True</td>\n",
              "      <td>False</td>\n",
              "    </tr>\n",
              "    <tr>\n",
              "      <th>4</th>\n",
              "      <td>False</td>\n",
              "      <td>False</td>\n",
              "      <td>True</td>\n",
              "      <td>False</td>\n",
              "      <td>False</td>\n",
              "      <td>True</td>\n",
              "      <td>False</td>\n",
              "    </tr>\n",
              "  </tbody>\n",
              "</table>\n",
              "</div>"
            ],
            "text/plain": [
              "   unit_Apartamento  unit_Casa  unit_Outros  zone_Zona Central  \\\n",
              "0             False      False         True              False   \n",
              "1              True      False        False              False   \n",
              "2             False      False         True              False   \n",
              "3              True      False        False              False   \n",
              "4             False      False         True              False   \n",
              "\n",
              "   zone_Zona Norte  zone_Zona Oeste  zone_Zona Sul  \n",
              "0            False             True          False  \n",
              "1            False             True          False  \n",
              "2            False             True          False  \n",
              "3            False             True          False  \n",
              "4            False             True          False  "
            ]
          },
          "execution_count": 54,
          "metadata": {},
          "output_type": "execute_result"
        }
      ],
      "source": [
        "df_dummies = pd.get_dummies(df_transformed[categorigal_vars])\n",
        "df_dummies.head()"
      ]
    },
    {
      "cell_type": "code",
      "execution_count": 55,
      "metadata": {
        "id": "nPTMe-Bujot6"
      },
      "outputs": [
        {
          "data": {
            "text/html": [
              "<div>\n",
              "<style scoped>\n",
              "    .dataframe tbody tr th:only-of-type {\n",
              "        vertical-align: middle;\n",
              "    }\n",
              "\n",
              "    .dataframe tbody tr th {\n",
              "        vertical-align: top;\n",
              "    }\n",
              "\n",
              "    .dataframe thead th {\n",
              "        text-align: right;\n",
              "    }\n",
              "</style>\n",
              "<table border=\"1\" class=\"dataframe\">\n",
              "  <thead>\n",
              "    <tr style=\"text-align: right;\">\n",
              "      <th></th>\n",
              "      <th>price</th>\n",
              "      <th>tax_iptu</th>\n",
              "      <th>tax_condo</th>\n",
              "      <th>bedrooms</th>\n",
              "      <th>bathrooms</th>\n",
              "      <th>suites</th>\n",
              "      <th>parkingSpaces</th>\n",
              "      <th>usableAreas</th>\n",
              "      <th>totalAreas</th>\n",
              "      <th>floors</th>\n",
              "      <th>unitsOnTheFloor</th>\n",
              "      <th>unitFloor</th>\n",
              "      <th>unit_Apartamento</th>\n",
              "      <th>unit_Casa</th>\n",
              "      <th>unit_Outros</th>\n",
              "      <th>zone_Zona Central</th>\n",
              "      <th>zone_Zona Norte</th>\n",
              "      <th>zone_Zona Oeste</th>\n",
              "      <th>zone_Zona Sul</th>\n",
              "    </tr>\n",
              "  </thead>\n",
              "  <tbody>\n",
              "    <tr>\n",
              "      <th>0</th>\n",
              "      <td>10.714440</td>\n",
              "      <td>0.000000</td>\n",
              "      <td>5.017280</td>\n",
              "      <td>0.000000</td>\n",
              "      <td>0.000000</td>\n",
              "      <td>0.000000</td>\n",
              "      <td>0.693147</td>\n",
              "      <td>4.143135</td>\n",
              "      <td>4.143135</td>\n",
              "      <td>0.000000</td>\n",
              "      <td>0.000000</td>\n",
              "      <td>0.000000</td>\n",
              "      <td>False</td>\n",
              "      <td>False</td>\n",
              "      <td>True</td>\n",
              "      <td>False</td>\n",
              "      <td>False</td>\n",
              "      <td>True</td>\n",
              "      <td>False</td>\n",
              "    </tr>\n",
              "    <tr>\n",
              "      <th>1</th>\n",
              "      <td>10.714440</td>\n",
              "      <td>0.000000</td>\n",
              "      <td>4.795791</td>\n",
              "      <td>1.098612</td>\n",
              "      <td>0.693147</td>\n",
              "      <td>0.000000</td>\n",
              "      <td>0.693147</td>\n",
              "      <td>3.806662</td>\n",
              "      <td>0.000000</td>\n",
              "      <td>0.000000</td>\n",
              "      <td>0.000000</td>\n",
              "      <td>0.000000</td>\n",
              "      <td>True</td>\n",
              "      <td>False</td>\n",
              "      <td>False</td>\n",
              "      <td>False</td>\n",
              "      <td>False</td>\n",
              "      <td>True</td>\n",
              "      <td>False</td>\n",
              "    </tr>\n",
              "    <tr>\n",
              "      <th>2</th>\n",
              "      <td>10.819798</td>\n",
              "      <td>0.000000</td>\n",
              "      <td>4.615121</td>\n",
              "      <td>0.000000</td>\n",
              "      <td>0.000000</td>\n",
              "      <td>0.000000</td>\n",
              "      <td>0.000000</td>\n",
              "      <td>4.890349</td>\n",
              "      <td>4.890349</td>\n",
              "      <td>0.000000</td>\n",
              "      <td>0.000000</td>\n",
              "      <td>0.000000</td>\n",
              "      <td>False</td>\n",
              "      <td>False</td>\n",
              "      <td>True</td>\n",
              "      <td>False</td>\n",
              "      <td>False</td>\n",
              "      <td>True</td>\n",
              "      <td>False</td>\n",
              "    </tr>\n",
              "    <tr>\n",
              "      <th>3</th>\n",
              "      <td>10.819798</td>\n",
              "      <td>4.795791</td>\n",
              "      <td>5.993961</td>\n",
              "      <td>1.386294</td>\n",
              "      <td>1.098612</td>\n",
              "      <td>0.693147</td>\n",
              "      <td>0.693147</td>\n",
              "      <td>4.110874</td>\n",
              "      <td>0.000000</td>\n",
              "      <td>1.386294</td>\n",
              "      <td>1.609438</td>\n",
              "      <td>1.098612</td>\n",
              "      <td>True</td>\n",
              "      <td>False</td>\n",
              "      <td>False</td>\n",
              "      <td>False</td>\n",
              "      <td>False</td>\n",
              "      <td>True</td>\n",
              "      <td>False</td>\n",
              "    </tr>\n",
              "    <tr>\n",
              "      <th>4</th>\n",
              "      <td>10.819798</td>\n",
              "      <td>0.000000</td>\n",
              "      <td>0.000000</td>\n",
              "      <td>0.000000</td>\n",
              "      <td>0.000000</td>\n",
              "      <td>0.000000</td>\n",
              "      <td>0.000000</td>\n",
              "      <td>5.303305</td>\n",
              "      <td>5.303305</td>\n",
              "      <td>0.000000</td>\n",
              "      <td>0.000000</td>\n",
              "      <td>0.000000</td>\n",
              "      <td>False</td>\n",
              "      <td>False</td>\n",
              "      <td>True</td>\n",
              "      <td>False</td>\n",
              "      <td>False</td>\n",
              "      <td>True</td>\n",
              "      <td>False</td>\n",
              "    </tr>\n",
              "  </tbody>\n",
              "</table>\n",
              "</div>"
            ],
            "text/plain": [
              "       price  tax_iptu  tax_condo  bedrooms  bathrooms    suites  \\\n",
              "0  10.714440  0.000000   5.017280  0.000000   0.000000  0.000000   \n",
              "1  10.714440  0.000000   4.795791  1.098612   0.693147  0.000000   \n",
              "2  10.819798  0.000000   4.615121  0.000000   0.000000  0.000000   \n",
              "3  10.819798  4.795791   5.993961  1.386294   1.098612  0.693147   \n",
              "4  10.819798  0.000000   0.000000  0.000000   0.000000  0.000000   \n",
              "\n",
              "   parkingSpaces  usableAreas  totalAreas    floors  unitsOnTheFloor  \\\n",
              "0       0.693147     4.143135    4.143135  0.000000         0.000000   \n",
              "1       0.693147     3.806662    0.000000  0.000000         0.000000   \n",
              "2       0.000000     4.890349    4.890349  0.000000         0.000000   \n",
              "3       0.693147     4.110874    0.000000  1.386294         1.609438   \n",
              "4       0.000000     5.303305    5.303305  0.000000         0.000000   \n",
              "\n",
              "   unitFloor  unit_Apartamento  unit_Casa  unit_Outros  zone_Zona Central  \\\n",
              "0   0.000000             False      False         True              False   \n",
              "1   0.000000              True      False        False              False   \n",
              "2   0.000000             False      False         True              False   \n",
              "3   1.098612              True      False        False              False   \n",
              "4   0.000000             False      False         True              False   \n",
              "\n",
              "   zone_Zona Norte  zone_Zona Oeste  zone_Zona Sul  \n",
              "0            False             True          False  \n",
              "1            False             True          False  \n",
              "2            False             True          False  \n",
              "3            False             True          False  \n",
              "4            False             True          False  "
            ]
          },
          "execution_count": 55,
          "metadata": {},
          "output_type": "execute_result"
        }
      ],
      "source": [
        "data_dummies = pd.concat([df_transformed.drop(categorigal_vars, axis=1), df_dummies], axis=1) \n",
        "data_dummies.head()"
      ]
    },
    {
      "cell_type": "markdown",
      "metadata": {
        "id": "UF9KVec5dKvn"
      },
      "source": [
        "## Regressão Linear\n",
        "\n",
        "* \"A análise de regressão diz respeito ao estudo da dependência de uma variável, a variável dependente, em relação a uma ou mais variáveis, as variáveis explanatórias, visando estimar e/ou prever o valor médio (da população) da primeira em termos dos valores conhecidos ou fixados (em amostragens repetidas) das segundas.\"\n",
        "\n",
        "* [Documentação Sklearn - LinearRegression](https://scikit-learn.org/stable/modules/generated/sklearn.linear_model.LinearRegression.html#sklearn.linear_model.LinearRegression) \n",
        "\n",
        "* Regressão Simples: a variável dependente (regressando ou `y`) se relaciona a uma única variável explanatória (regressor ou `X`).\n",
        "\n",
        "* Regressão Múltipla: a variável dependente (regressando ou `y`) se relaciona a mais de uma única variável explanatória (regressor ou `Xi`).\n"
      ]
    },
    {
      "cell_type": "markdown",
      "metadata": {
        "id": "NCJT4tyvjot7"
      },
      "source": [
        "## Ajuste e Previsão"
      ]
    },
    {
      "cell_type": "markdown",
      "metadata": {},
      "source": [
        "Objetivo: prrever o valor (variável independente, o que é predito) de um imóvel a partir das suas características (variáveis preditoras/explanatórias)\n"
      ]
    },
    {
      "cell_type": "markdown",
      "metadata": {
        "id": "CUVKskTnjot7"
      },
      "source": [
        "### Divisão dos dados"
      ]
    },
    {
      "cell_type": "code",
      "execution_count": 56,
      "metadata": {
        "id": "_buEpLP0jot8"
      },
      "outputs": [],
      "source": [
        "#variáveis explanatórias (independentes)\n",
        "X = data_dummies.drop('price', axis=1)\n",
        "\n",
        "#variável dependente\n",
        "y = data_dummies['price']"
      ]
    },
    {
      "cell_type": "code",
      "execution_count": 57,
      "metadata": {
        "id": "zXNY9CLzjot7"
      },
      "outputs": [],
      "source": [
        "from sklearn.model_selection import train_test_split"
      ]
    },
    {
      "cell_type": "code",
      "execution_count": 58,
      "metadata": {
        "id": "sN_McnjLjot8"
      },
      "outputs": [],
      "source": [
        "#divisão em conjunto de treino e teste\n",
        "X_treino, X_teste, y_treino, y_teste = train_test_split(X, y, test_size=0.3, random_state=42)"
      ]
    },
    {
      "cell_type": "markdown",
      "metadata": {
        "id": "MlQgkLCfnjQA"
      },
      "source": [
        "### Modelo"
      ]
    },
    {
      "cell_type": "code",
      "execution_count": 59,
      "metadata": {
        "id": "Q-sDBVv6qgVl"
      },
      "outputs": [],
      "source": [
        "from sklearn.linear_model import LinearRegression"
      ]
    },
    {
      "cell_type": "code",
      "execution_count": 60,
      "metadata": {
        "id": "tdcPTGZAqhL9"
      },
      "outputs": [],
      "source": [
        "#Instanciando o modelo\n",
        "lr = LinearRegression()"
      ]
    },
    {
      "cell_type": "code",
      "execution_count": 61,
      "metadata": {
        "id": "FLGMxxBmqhk1"
      },
      "outputs": [
        {
          "data": {
            "text/html": [
              "<style>#sk-container-id-1 {\n",
              "  /* Definition of color scheme common for light and dark mode */\n",
              "  --sklearn-color-text: #000;\n",
              "  --sklearn-color-text-muted: #666;\n",
              "  --sklearn-color-line: gray;\n",
              "  /* Definition of color scheme for unfitted estimators */\n",
              "  --sklearn-color-unfitted-level-0: #fff5e6;\n",
              "  --sklearn-color-unfitted-level-1: #f6e4d2;\n",
              "  --sklearn-color-unfitted-level-2: #ffe0b3;\n",
              "  --sklearn-color-unfitted-level-3: chocolate;\n",
              "  /* Definition of color scheme for fitted estimators */\n",
              "  --sklearn-color-fitted-level-0: #f0f8ff;\n",
              "  --sklearn-color-fitted-level-1: #d4ebff;\n",
              "  --sklearn-color-fitted-level-2: #b3dbfd;\n",
              "  --sklearn-color-fitted-level-3: cornflowerblue;\n",
              "\n",
              "  /* Specific color for light theme */\n",
              "  --sklearn-color-text-on-default-background: var(--sg-text-color, var(--theme-code-foreground, var(--jp-content-font-color1, black)));\n",
              "  --sklearn-color-background: var(--sg-background-color, var(--theme-background, var(--jp-layout-color0, white)));\n",
              "  --sklearn-color-border-box: var(--sg-text-color, var(--theme-code-foreground, var(--jp-content-font-color1, black)));\n",
              "  --sklearn-color-icon: #696969;\n",
              "\n",
              "  @media (prefers-color-scheme: dark) {\n",
              "    /* Redefinition of color scheme for dark theme */\n",
              "    --sklearn-color-text-on-default-background: var(--sg-text-color, var(--theme-code-foreground, var(--jp-content-font-color1, white)));\n",
              "    --sklearn-color-background: var(--sg-background-color, var(--theme-background, var(--jp-layout-color0, #111)));\n",
              "    --sklearn-color-border-box: var(--sg-text-color, var(--theme-code-foreground, var(--jp-content-font-color1, white)));\n",
              "    --sklearn-color-icon: #878787;\n",
              "  }\n",
              "}\n",
              "\n",
              "#sk-container-id-1 {\n",
              "  color: var(--sklearn-color-text);\n",
              "}\n",
              "\n",
              "#sk-container-id-1 pre {\n",
              "  padding: 0;\n",
              "}\n",
              "\n",
              "#sk-container-id-1 input.sk-hidden--visually {\n",
              "  border: 0;\n",
              "  clip: rect(1px 1px 1px 1px);\n",
              "  clip: rect(1px, 1px, 1px, 1px);\n",
              "  height: 1px;\n",
              "  margin: -1px;\n",
              "  overflow: hidden;\n",
              "  padding: 0;\n",
              "  position: absolute;\n",
              "  width: 1px;\n",
              "}\n",
              "\n",
              "#sk-container-id-1 div.sk-dashed-wrapped {\n",
              "  border: 1px dashed var(--sklearn-color-line);\n",
              "  margin: 0 0.4em 0.5em 0.4em;\n",
              "  box-sizing: border-box;\n",
              "  padding-bottom: 0.4em;\n",
              "  background-color: var(--sklearn-color-background);\n",
              "}\n",
              "\n",
              "#sk-container-id-1 div.sk-container {\n",
              "  /* jupyter's `normalize.less` sets `[hidden] { display: none; }`\n",
              "     but bootstrap.min.css set `[hidden] { display: none !important; }`\n",
              "     so we also need the `!important` here to be able to override the\n",
              "     default hidden behavior on the sphinx rendered scikit-learn.org.\n",
              "     See: https://github.com/scikit-learn/scikit-learn/issues/21755 */\n",
              "  display: inline-block !important;\n",
              "  position: relative;\n",
              "}\n",
              "\n",
              "#sk-container-id-1 div.sk-text-repr-fallback {\n",
              "  display: none;\n",
              "}\n",
              "\n",
              "div.sk-parallel-item,\n",
              "div.sk-serial,\n",
              "div.sk-item {\n",
              "  /* draw centered vertical line to link estimators */\n",
              "  background-image: linear-gradient(var(--sklearn-color-text-on-default-background), var(--sklearn-color-text-on-default-background));\n",
              "  background-size: 2px 100%;\n",
              "  background-repeat: no-repeat;\n",
              "  background-position: center center;\n",
              "}\n",
              "\n",
              "/* Parallel-specific style estimator block */\n",
              "\n",
              "#sk-container-id-1 div.sk-parallel-item::after {\n",
              "  content: \"\";\n",
              "  width: 100%;\n",
              "  border-bottom: 2px solid var(--sklearn-color-text-on-default-background);\n",
              "  flex-grow: 1;\n",
              "}\n",
              "\n",
              "#sk-container-id-1 div.sk-parallel {\n",
              "  display: flex;\n",
              "  align-items: stretch;\n",
              "  justify-content: center;\n",
              "  background-color: var(--sklearn-color-background);\n",
              "  position: relative;\n",
              "}\n",
              "\n",
              "#sk-container-id-1 div.sk-parallel-item {\n",
              "  display: flex;\n",
              "  flex-direction: column;\n",
              "}\n",
              "\n",
              "#sk-container-id-1 div.sk-parallel-item:first-child::after {\n",
              "  align-self: flex-end;\n",
              "  width: 50%;\n",
              "}\n",
              "\n",
              "#sk-container-id-1 div.sk-parallel-item:last-child::after {\n",
              "  align-self: flex-start;\n",
              "  width: 50%;\n",
              "}\n",
              "\n",
              "#sk-container-id-1 div.sk-parallel-item:only-child::after {\n",
              "  width: 0;\n",
              "}\n",
              "\n",
              "/* Serial-specific style estimator block */\n",
              "\n",
              "#sk-container-id-1 div.sk-serial {\n",
              "  display: flex;\n",
              "  flex-direction: column;\n",
              "  align-items: center;\n",
              "  background-color: var(--sklearn-color-background);\n",
              "  padding-right: 1em;\n",
              "  padding-left: 1em;\n",
              "}\n",
              "\n",
              "\n",
              "/* Toggleable style: style used for estimator/Pipeline/ColumnTransformer box that is\n",
              "clickable and can be expanded/collapsed.\n",
              "- Pipeline and ColumnTransformer use this feature and define the default style\n",
              "- Estimators will overwrite some part of the style using the `sk-estimator` class\n",
              "*/\n",
              "\n",
              "/* Pipeline and ColumnTransformer style (default) */\n",
              "\n",
              "#sk-container-id-1 div.sk-toggleable {\n",
              "  /* Default theme specific background. It is overwritten whether we have a\n",
              "  specific estimator or a Pipeline/ColumnTransformer */\n",
              "  background-color: var(--sklearn-color-background);\n",
              "}\n",
              "\n",
              "/* Toggleable label */\n",
              "#sk-container-id-1 label.sk-toggleable__label {\n",
              "  cursor: pointer;\n",
              "  display: flex;\n",
              "  width: 100%;\n",
              "  margin-bottom: 0;\n",
              "  padding: 0.5em;\n",
              "  box-sizing: border-box;\n",
              "  text-align: center;\n",
              "  align-items: start;\n",
              "  justify-content: space-between;\n",
              "  gap: 0.5em;\n",
              "}\n",
              "\n",
              "#sk-container-id-1 label.sk-toggleable__label .caption {\n",
              "  font-size: 0.6rem;\n",
              "  font-weight: lighter;\n",
              "  color: var(--sklearn-color-text-muted);\n",
              "}\n",
              "\n",
              "#sk-container-id-1 label.sk-toggleable__label-arrow:before {\n",
              "  /* Arrow on the left of the label */\n",
              "  content: \"▸\";\n",
              "  float: left;\n",
              "  margin-right: 0.25em;\n",
              "  color: var(--sklearn-color-icon);\n",
              "}\n",
              "\n",
              "#sk-container-id-1 label.sk-toggleable__label-arrow:hover:before {\n",
              "  color: var(--sklearn-color-text);\n",
              "}\n",
              "\n",
              "/* Toggleable content - dropdown */\n",
              "\n",
              "#sk-container-id-1 div.sk-toggleable__content {\n",
              "  max-height: 0;\n",
              "  max-width: 0;\n",
              "  overflow: hidden;\n",
              "  text-align: left;\n",
              "  /* unfitted */\n",
              "  background-color: var(--sklearn-color-unfitted-level-0);\n",
              "}\n",
              "\n",
              "#sk-container-id-1 div.sk-toggleable__content.fitted {\n",
              "  /* fitted */\n",
              "  background-color: var(--sklearn-color-fitted-level-0);\n",
              "}\n",
              "\n",
              "#sk-container-id-1 div.sk-toggleable__content pre {\n",
              "  margin: 0.2em;\n",
              "  border-radius: 0.25em;\n",
              "  color: var(--sklearn-color-text);\n",
              "  /* unfitted */\n",
              "  background-color: var(--sklearn-color-unfitted-level-0);\n",
              "}\n",
              "\n",
              "#sk-container-id-1 div.sk-toggleable__content.fitted pre {\n",
              "  /* unfitted */\n",
              "  background-color: var(--sklearn-color-fitted-level-0);\n",
              "}\n",
              "\n",
              "#sk-container-id-1 input.sk-toggleable__control:checked~div.sk-toggleable__content {\n",
              "  /* Expand drop-down */\n",
              "  max-height: 200px;\n",
              "  max-width: 100%;\n",
              "  overflow: auto;\n",
              "}\n",
              "\n",
              "#sk-container-id-1 input.sk-toggleable__control:checked~label.sk-toggleable__label-arrow:before {\n",
              "  content: \"▾\";\n",
              "}\n",
              "\n",
              "/* Pipeline/ColumnTransformer-specific style */\n",
              "\n",
              "#sk-container-id-1 div.sk-label input.sk-toggleable__control:checked~label.sk-toggleable__label {\n",
              "  color: var(--sklearn-color-text);\n",
              "  background-color: var(--sklearn-color-unfitted-level-2);\n",
              "}\n",
              "\n",
              "#sk-container-id-1 div.sk-label.fitted input.sk-toggleable__control:checked~label.sk-toggleable__label {\n",
              "  background-color: var(--sklearn-color-fitted-level-2);\n",
              "}\n",
              "\n",
              "/* Estimator-specific style */\n",
              "\n",
              "/* Colorize estimator box */\n",
              "#sk-container-id-1 div.sk-estimator input.sk-toggleable__control:checked~label.sk-toggleable__label {\n",
              "  /* unfitted */\n",
              "  background-color: var(--sklearn-color-unfitted-level-2);\n",
              "}\n",
              "\n",
              "#sk-container-id-1 div.sk-estimator.fitted input.sk-toggleable__control:checked~label.sk-toggleable__label {\n",
              "  /* fitted */\n",
              "  background-color: var(--sklearn-color-fitted-level-2);\n",
              "}\n",
              "\n",
              "#sk-container-id-1 div.sk-label label.sk-toggleable__label,\n",
              "#sk-container-id-1 div.sk-label label {\n",
              "  /* The background is the default theme color */\n",
              "  color: var(--sklearn-color-text-on-default-background);\n",
              "}\n",
              "\n",
              "/* On hover, darken the color of the background */\n",
              "#sk-container-id-1 div.sk-label:hover label.sk-toggleable__label {\n",
              "  color: var(--sklearn-color-text);\n",
              "  background-color: var(--sklearn-color-unfitted-level-2);\n",
              "}\n",
              "\n",
              "/* Label box, darken color on hover, fitted */\n",
              "#sk-container-id-1 div.sk-label.fitted:hover label.sk-toggleable__label.fitted {\n",
              "  color: var(--sklearn-color-text);\n",
              "  background-color: var(--sklearn-color-fitted-level-2);\n",
              "}\n",
              "\n",
              "/* Estimator label */\n",
              "\n",
              "#sk-container-id-1 div.sk-label label {\n",
              "  font-family: monospace;\n",
              "  font-weight: bold;\n",
              "  display: inline-block;\n",
              "  line-height: 1.2em;\n",
              "}\n",
              "\n",
              "#sk-container-id-1 div.sk-label-container {\n",
              "  text-align: center;\n",
              "}\n",
              "\n",
              "/* Estimator-specific */\n",
              "#sk-container-id-1 div.sk-estimator {\n",
              "  font-family: monospace;\n",
              "  border: 1px dotted var(--sklearn-color-border-box);\n",
              "  border-radius: 0.25em;\n",
              "  box-sizing: border-box;\n",
              "  margin-bottom: 0.5em;\n",
              "  /* unfitted */\n",
              "  background-color: var(--sklearn-color-unfitted-level-0);\n",
              "}\n",
              "\n",
              "#sk-container-id-1 div.sk-estimator.fitted {\n",
              "  /* fitted */\n",
              "  background-color: var(--sklearn-color-fitted-level-0);\n",
              "}\n",
              "\n",
              "/* on hover */\n",
              "#sk-container-id-1 div.sk-estimator:hover {\n",
              "  /* unfitted */\n",
              "  background-color: var(--sklearn-color-unfitted-level-2);\n",
              "}\n",
              "\n",
              "#sk-container-id-1 div.sk-estimator.fitted:hover {\n",
              "  /* fitted */\n",
              "  background-color: var(--sklearn-color-fitted-level-2);\n",
              "}\n",
              "\n",
              "/* Specification for estimator info (e.g. \"i\" and \"?\") */\n",
              "\n",
              "/* Common style for \"i\" and \"?\" */\n",
              "\n",
              ".sk-estimator-doc-link,\n",
              "a:link.sk-estimator-doc-link,\n",
              "a:visited.sk-estimator-doc-link {\n",
              "  float: right;\n",
              "  font-size: smaller;\n",
              "  line-height: 1em;\n",
              "  font-family: monospace;\n",
              "  background-color: var(--sklearn-color-background);\n",
              "  border-radius: 1em;\n",
              "  height: 1em;\n",
              "  width: 1em;\n",
              "  text-decoration: none !important;\n",
              "  margin-left: 0.5em;\n",
              "  text-align: center;\n",
              "  /* unfitted */\n",
              "  border: var(--sklearn-color-unfitted-level-1) 1pt solid;\n",
              "  color: var(--sklearn-color-unfitted-level-1);\n",
              "}\n",
              "\n",
              ".sk-estimator-doc-link.fitted,\n",
              "a:link.sk-estimator-doc-link.fitted,\n",
              "a:visited.sk-estimator-doc-link.fitted {\n",
              "  /* fitted */\n",
              "  border: var(--sklearn-color-fitted-level-1) 1pt solid;\n",
              "  color: var(--sklearn-color-fitted-level-1);\n",
              "}\n",
              "\n",
              "/* On hover */\n",
              "div.sk-estimator:hover .sk-estimator-doc-link:hover,\n",
              ".sk-estimator-doc-link:hover,\n",
              "div.sk-label-container:hover .sk-estimator-doc-link:hover,\n",
              ".sk-estimator-doc-link:hover {\n",
              "  /* unfitted */\n",
              "  background-color: var(--sklearn-color-unfitted-level-3);\n",
              "  color: var(--sklearn-color-background);\n",
              "  text-decoration: none;\n",
              "}\n",
              "\n",
              "div.sk-estimator.fitted:hover .sk-estimator-doc-link.fitted:hover,\n",
              ".sk-estimator-doc-link.fitted:hover,\n",
              "div.sk-label-container:hover .sk-estimator-doc-link.fitted:hover,\n",
              ".sk-estimator-doc-link.fitted:hover {\n",
              "  /* fitted */\n",
              "  background-color: var(--sklearn-color-fitted-level-3);\n",
              "  color: var(--sklearn-color-background);\n",
              "  text-decoration: none;\n",
              "}\n",
              "\n",
              "/* Span, style for the box shown on hovering the info icon */\n",
              ".sk-estimator-doc-link span {\n",
              "  display: none;\n",
              "  z-index: 9999;\n",
              "  position: relative;\n",
              "  font-weight: normal;\n",
              "  right: .2ex;\n",
              "  padding: .5ex;\n",
              "  margin: .5ex;\n",
              "  width: min-content;\n",
              "  min-width: 20ex;\n",
              "  max-width: 50ex;\n",
              "  color: var(--sklearn-color-text);\n",
              "  box-shadow: 2pt 2pt 4pt #999;\n",
              "  /* unfitted */\n",
              "  background: var(--sklearn-color-unfitted-level-0);\n",
              "  border: .5pt solid var(--sklearn-color-unfitted-level-3);\n",
              "}\n",
              "\n",
              ".sk-estimator-doc-link.fitted span {\n",
              "  /* fitted */\n",
              "  background: var(--sklearn-color-fitted-level-0);\n",
              "  border: var(--sklearn-color-fitted-level-3);\n",
              "}\n",
              "\n",
              ".sk-estimator-doc-link:hover span {\n",
              "  display: block;\n",
              "}\n",
              "\n",
              "/* \"?\"-specific style due to the `<a>` HTML tag */\n",
              "\n",
              "#sk-container-id-1 a.estimator_doc_link {\n",
              "  float: right;\n",
              "  font-size: 1rem;\n",
              "  line-height: 1em;\n",
              "  font-family: monospace;\n",
              "  background-color: var(--sklearn-color-background);\n",
              "  border-radius: 1rem;\n",
              "  height: 1rem;\n",
              "  width: 1rem;\n",
              "  text-decoration: none;\n",
              "  /* unfitted */\n",
              "  color: var(--sklearn-color-unfitted-level-1);\n",
              "  border: var(--sklearn-color-unfitted-level-1) 1pt solid;\n",
              "}\n",
              "\n",
              "#sk-container-id-1 a.estimator_doc_link.fitted {\n",
              "  /* fitted */\n",
              "  border: var(--sklearn-color-fitted-level-1) 1pt solid;\n",
              "  color: var(--sklearn-color-fitted-level-1);\n",
              "}\n",
              "\n",
              "/* On hover */\n",
              "#sk-container-id-1 a.estimator_doc_link:hover {\n",
              "  /* unfitted */\n",
              "  background-color: var(--sklearn-color-unfitted-level-3);\n",
              "  color: var(--sklearn-color-background);\n",
              "  text-decoration: none;\n",
              "}\n",
              "\n",
              "#sk-container-id-1 a.estimator_doc_link.fitted:hover {\n",
              "  /* fitted */\n",
              "  background-color: var(--sklearn-color-fitted-level-3);\n",
              "}\n",
              "</style><div id=\"sk-container-id-1\" class=\"sk-top-container\"><div class=\"sk-text-repr-fallback\"><pre>LinearRegression()</pre><b>In a Jupyter environment, please rerun this cell to show the HTML representation or trust the notebook. <br />On GitHub, the HTML representation is unable to render, please try loading this page with nbviewer.org.</b></div><div class=\"sk-container\" hidden><div class=\"sk-item\"><div class=\"sk-estimator fitted sk-toggleable\"><input class=\"sk-toggleable__control sk-hidden--visually\" id=\"sk-estimator-id-1\" type=\"checkbox\" checked><label for=\"sk-estimator-id-1\" class=\"sk-toggleable__label fitted sk-toggleable__label-arrow\"><div><div>LinearRegression</div></div><div><a class=\"sk-estimator-doc-link fitted\" rel=\"noreferrer\" target=\"_blank\" href=\"https://scikit-learn.org/1.6/modules/generated/sklearn.linear_model.LinearRegression.html\">?<span>Documentation for LinearRegression</span></a><span class=\"sk-estimator-doc-link fitted\">i<span>Fitted</span></span></div></label><div class=\"sk-toggleable__content fitted\"><pre>LinearRegression()</pre></div> </div></div></div></div>"
            ],
            "text/plain": [
              "LinearRegression()"
            ]
          },
          "execution_count": 61,
          "metadata": {},
          "output_type": "execute_result"
        }
      ],
      "source": [
        "#treino\n",
        "lr.fit(X_treino, y_treino)"
      ]
    },
    {
      "cell_type": "code",
      "execution_count": 64,
      "metadata": {
        "id": "_LqC15XYqhhE"
      },
      "outputs": [
        {
          "data": {
            "text/plain": [
              "array([13.25768024, 12.45705313, 12.91487963, ..., 13.13161073,\n",
              "       12.42379775, 14.49548233], shape=(20877,))"
            ]
          },
          "execution_count": 64,
          "metadata": {},
          "output_type": "execute_result"
        }
      ],
      "source": [
        "#teste\n",
        "previsao_lr = lr.predict(X_teste)\n",
        "\n",
        "#resultados da previsão\n",
        "previsao_lr"
      ]
    },
    {
      "cell_type": "code",
      "execution_count": 65,
      "metadata": {
        "id": "xAdTR4GSg56P"
      },
      "outputs": [
        {
          "data": {
            "text/plain": [
              "np.float64(572448.7513552749)"
            ]
          },
          "execution_count": 65,
          "metadata": {},
          "output_type": "execute_result"
        }
      ],
      "source": [
        "#transformação inversa \n",
        "np.expm1(13.25768024)"
      ]
    },
    {
      "cell_type": "markdown",
      "metadata": {
        "id": "PraznHLEjouB"
      },
      "source": [
        "## Métrica de desempenho"
      ]
    },
    {
      "cell_type": "markdown",
      "metadata": {
        "id": "yb5Nd23ki1v6"
      },
      "source": [
        "### Coeficiente de Determinação \n",
        "\n",
        "* descobrir quão “bem” uma linha de regressão amostral é adequada aos dados\n",
        "* r2 situa-se entre 0 e 1\n",
        "* \"r2 mede a proporção ou percentual da variação total de Y explicada pelo modelo de regressão.\"\n",
        "\n",
        "\n",
        "\n"
      ]
    },
    {
      "cell_type": "code",
      "execution_count": 66,
      "metadata": {
        "id": "e6EGnOEpjouB"
      },
      "outputs": [],
      "source": [
        "#importar a biblioteca\n",
        "from sklearn.metrics import r2_score"
      ]
    },
    {
      "cell_type": "code",
      "execution_count": 67,
      "metadata": {
        "id": "G6XKyUOXjouC"
      },
      "outputs": [
        {
          "data": {
            "text/plain": [
              "0.7880682093407632"
            ]
          },
          "execution_count": 67,
          "metadata": {},
          "output_type": "execute_result"
        }
      ],
      "source": [
        "r2_lr = r2_score(y_teste, previsao_lr)\n",
        "r2_lr"
      ]
    }
  ],
  "metadata": {
    "colab": {
      "collapsed_sections": [],
      "name": "Projeto_Regressao_embranco.ipynb",
      "provenance": []
    },
    "kernelspec": {
      "display_name": "Python 3",
      "language": "python",
      "name": "python3"
    },
    "language_info": {
      "codemirror_mode": {
        "name": "ipython",
        "version": 3
      },
      "file_extension": ".py",
      "mimetype": "text/x-python",
      "name": "python",
      "nbconvert_exporter": "python",
      "pygments_lexer": "ipython3",
      "version": "3.13.3"
    }
  },
  "nbformat": 4,
  "nbformat_minor": 0
}
